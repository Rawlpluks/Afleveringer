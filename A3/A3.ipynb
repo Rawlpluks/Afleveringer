{
 "cells": [
  {
   "cell_type": "markdown",
   "metadata": {},
   "source": [
    "# Mandatory Assignment 3\n"
   ]
  },
  {
   "cell_type": "markdown",
   "metadata": {},
   "source": [
    "## US Jobs and Import Competition from China \n",
    "Af: Mathias Nikolaisen(dnt357), Oliver Mattthews(jvc975) & Clara Maj Folkmann(djz279)"
   ]
  },
  {
   "cell_type": "markdown",
   "metadata": {},
   "source": [
    "### Problem 1"
   ]
  },
  {
   "cell_type": "code",
   "execution_count": null,
   "metadata": {},
   "outputs": [
    {
     "ename": "",
     "evalue": "",
     "output_type": "error",
     "traceback": [
      "\u001b[1;31mRunning cells with 'Python 3.11.9' requires the ipykernel package.\n",
      "\u001b[1;31mRun the following command to install 'ipykernel' into the Python environment. \n",
      "\u001b[1;31mCommand: 'c:/Users/clara.maj.folkmann/AppData/Local/Microsoft/WindowsApps/python3.11.exe -m pip install ipykernel -U --user --force-reinstall'"
     ]
    }
   ],
   "source": [
    "import pandas as pd\n",
    "import statsmodels.api as sm\n",
    "import numpy as np"
   ]
  },
  {
   "cell_type": "markdown",
   "metadata": {},
   "source": [
    "### Problem 2"
   ]
  },
  {
   "cell_type": "code",
   "execution_count": 66,
   "metadata": {},
   "outputs": [
    {
     "name": "stdout",
     "output_type": "stream",
     "text": [
      "                            OLS Regression Results                            \n",
      "==============================================================================\n",
      "Dep. Variable:                aarslon   R-squared:                       0.073\n",
      "Model:                            OLS   Adj. R-squared:                  0.072\n",
      "Method:                 Least Squares   F-statistic:                     125.4\n",
      "Date:                Sun, 06 Oct 2024   Prob (F-statistic):           3.61e-78\n",
      "Time:                        14:20:29   Log-Likelihood:                -4102.0\n",
      "No. Observations:                4800   AIC:                             8212.\n",
      "Df Residuals:                    4796   BIC:                             8238.\n",
      "Df Model:                           3                                         \n",
      "Covariance Type:            nonrobust                                         \n",
      "==============================================================================\n",
      "                 coef    std err          t      P>|t|      [0.025      0.975]\n",
      "------------------------------------------------------------------------------\n",
      "const       -457.8689     38.818    -11.795      0.000    -533.970    -381.768\n",
      "alder          0.0056      0.001      4.762      0.000       0.003       0.008\n",
      "YSM            0.2889      0.016     17.543      0.000       0.257       0.321\n",
      "ankomstaar     0.2322      0.019     12.065      0.000       0.194       0.270\n",
      "==============================================================================\n",
      "Omnibus:                      172.131   Durbin-Watson:                   1.426\n",
      "Prob(Omnibus):                  0.000   Jarque-Bera (JB):              250.575\n",
      "Skew:                          -0.354   Prob(JB):                     3.88e-55\n",
      "Kurtosis:                       3.866   Cond. No.                     9.53e+06\n",
      "==============================================================================\n",
      "\n",
      "Notes:\n",
      "[1] Standard Errors assume that the covariance matrix of the errors is correctly specified.\n",
      "[2] The condition number is large, 9.53e+06. This might indicate that there are\n",
      "strong multicollinearity or other numerical problems.\n"
     ]
    }
   ],
   "source": [
    "\n"
   ]
  },
  {
   "cell_type": "markdown",
   "metadata": {},
   "source": [
    "### Problem 3"
   ]
  },
  {
   "cell_type": "code",
   "execution_count": 60,
   "metadata": {},
   "outputs": [
    {
     "name": "stdout",
     "output_type": "stream",
     "text": [
      "                            OLS Regression Results                            \n",
      "==============================================================================\n",
      "Dep. Variable:             ln_aarslon   R-squared:                       0.125\n",
      "Model:                            OLS   Adj. R-squared:                  0.124\n",
      "Method:                 Least Squares   F-statistic:                     114.6\n",
      "Date:                Sun, 06 Oct 2024   Prob (F-statistic):          1.48e-135\n",
      "Time:                        14:52:20   Log-Likelihood:                -3961.5\n",
      "No. Observations:                4800   AIC:                             7937.\n",
      "Df Residuals:                    4793   BIC:                             7982.\n",
      "Df Model:                           6                                         \n",
      "Covariance Type:            nonrobust                                         \n",
      "=================================================================================\n",
      "                    coef    std err          t      P>|t|      [0.025      0.975]\n",
      "---------------------------------------------------------------------------------\n",
      "const             8.0633      0.128     62.821      0.000       7.812       8.315\n",
      "alder             0.1103      0.007     16.467      0.000       0.097       0.123\n",
      "alder_squared    -0.0016   9.88e-05    -15.875      0.000      -0.002      -0.001\n",
      "YSM               0.4269      0.051      8.407      0.000       0.327       0.527\n",
      "YSM_squared      -0.0304      0.010     -3.142      0.002      -0.049      -0.011\n",
      "kohorte15         0.2662      0.027      9.752      0.000       0.213       0.320\n",
      "kohorte16         0.4258      0.037     11.361      0.000       0.352       0.499\n",
      "==============================================================================\n",
      "Omnibus:                      189.930   Durbin-Watson:                   1.440\n",
      "Prob(Omnibus):                  0.000   Jarque-Bera (JB):              307.587\n",
      "Skew:                          -0.349   Prob(JB):                     1.62e-67\n",
      "Kurtosis:                       4.025   Cond. No.                     1.68e+04\n",
      "==============================================================================\n",
      "\n",
      "Notes:\n",
      "[1] Standard Errors assume that the covariance matrix of the errors is correctly specified.\n",
      "[2] The condition number is large, 1.68e+04. This might indicate that there are\n",
      "strong multicollinearity or other numerical problems.\n",
      "Maximum income (in log terms) occurs approximately 7.02 years after migration.\n"
     ]
    }
   ],
   "source": []
  },
  {
   "cell_type": "markdown",
   "metadata": {},
   "source": [
    "## Problem 4"
   ]
  },
  {
   "cell_type": "code",
   "execution_count": null,
   "metadata": {},
   "outputs": [],
   "source": []
  },
  {
   "cell_type": "markdown",
   "metadata": {},
   "source": [
    "## Problem 5"
   ]
  },
  {
   "cell_type": "code",
   "execution_count": 46,
   "metadata": {},
   "outputs": [],
   "source": []
  }
 ],
 "metadata": {
  "kernelspec": {
   "display_name": "Python 3",
   "language": "python",
   "name": "python3"
  },
  "language_info": {
   "codemirror_mode": {
    "name": "ipython",
    "version": 3
   },
   "file_extension": ".py",
   "mimetype": "text/x-python",
   "name": "python",
   "nbconvert_exporter": "python",
   "pygments_lexer": "ipython3",
   "version": "3.11.9"
  }
 },
 "nbformat": 4,
 "nbformat_minor": 2
}

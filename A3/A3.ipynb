{
 "cells": [
  {
   "cell_type": "markdown",
   "metadata": {},
   "source": [
    "# Mandatory Assignment 3\n"
   ]
  },
  {
   "cell_type": "markdown",
   "metadata": {},
   "source": [
    "## US Jobs and Import Competition from China \n",
    "Af: Mathias Nikolaisen(dnt357), Oliver Mattthews(jvc975) & Clara Maj Folkmann(djz279)"
   ]
  },
  {
   "cell_type": "markdown",
   "metadata": {},
   "source": [
    "### Problem 1"
   ]
  },
  {
   "cell_type": "code",
   "execution_count": 40,
   "metadata": {},
   "outputs": [
    {
     "name": "stdout",
     "output_type": "stream",
     "text": [
      "1990-2000 (t2 = 0):\n",
      "              dsL    dIPWusch     college  ...    dIPWotch    dIPWukch    dIPWotmx\n",
      "count  662.000000  662.000000  662.000000  ...  662.000000  662.000000  662.000000\n",
      "mean    -0.957021    1.186600   42.097832  ...    1.016592    0.728172    0.014953\n",
      "std      2.240247    1.838066    8.530094  ...    1.083533    1.053982    0.112670\n",
      "min    -19.167072   -0.075351   19.943975  ...   -0.467243   -0.687543   -1.519587\n",
      "25%     -2.084500    0.248525   35.936215  ...    0.282036    0.122727    0.000772\n",
      "50%     -0.685493    0.744347   42.515060  ...    0.663031    0.544912    0.012937\n",
      "75%      0.379791    1.426852   47.567284  ...    1.398126    1.002490    0.037991\n",
      "max      5.664484   25.405270   62.898552  ...    8.616317   13.057814    0.516513\n",
      "\n",
      "[8 rows x 9 columns]\n",
      "2000-2007 (t2 = 1):\n",
      "              dsL    dIPWusch     college  ...    dIPWotch    dIPWukch    dIPWotmx\n",
      "count  662.000000  662.000000  662.000000  ...  662.000000  662.000000  662.000000\n",
      "mean    -2.338758    2.679514   48.228367  ...    2.523601    1.686539    0.082909\n",
      "std      2.595415    3.103919    8.550499  ...    2.583369    1.789099    0.163234\n",
      "min    -14.378567   -0.628958   26.319662  ...   -0.723334   -0.964006   -0.716238\n",
      "25%     -3.925830    0.887486   41.964255  ...    0.737589    0.545885    0.008783\n",
      "50%     -2.073025    1.941413   49.106943  ...    2.016384    1.362290    0.040040\n",
      "75%     -0.595540    3.456478   54.271556  ...    3.502216    2.376703    0.090396\n",
      "max      4.642012   43.084606   69.337563  ...   28.655161   22.502012    1.447995\n",
      "\n",
      "[8 rows x 9 columns]\n"
     ]
    }
   ],
   "source": [
    "import pandas as pd\n",
    "\n",
    "\n",
    "data_path = 'A3_X2017S_MetricsI.dta'\n",
    "df = pd.read_stata(data_path)\n",
    "\n",
    "# Beregn beskrivende statistik for hver periode\n",
    "summary_stats_period_0 = df[df['t2'] == 0][['dsL', 'dIPWusch', 'college', 'routine', 'dIPWusmx', 'foreignborn', 'dIPWotch', 'dIPWukch', 'dIPWotmx']].describe()\n",
    "summary_stats_period_1 = df[df['t2'] == 1][['dsL', 'dIPWusch', 'college', 'routine', 'dIPWusmx', 'foreignborn', 'dIPWotch', 'dIPWukch', 'dIPWotmx']].describe()\n",
    "\n",
    "# Udskriv summariske statistikker for begge perioder\n",
    "print(\"1990-2000 (t2 = 0):\")\n",
    "print(summary_stats_period_0)\n",
    "\n",
    "print(\"2000-2007 (t2 = 1):\")\n",
    "print(summary_stats_period_1)"
   ]
  },
  {
   "cell_type": "code",
   "execution_count": 41,
   "metadata": {},
   "outputs": [
    {
     "name": "stdout",
     "output_type": "stream",
     "text": [
      "                            OLS Regression Results                            \n",
      "==============================================================================\n",
      "Dep. Variable:                    dsL   R-squared:                       0.378\n",
      "Model:                            OLS   Adj. R-squared:                  0.375\n",
      "Method:                 Least Squares   F-statistic:                     159.9\n",
      "Date:                Wed, 23 Oct 2024   Prob (F-statistic):          6.08e-133\n",
      "Time:                        12:03:27   Log-Likelihood:                -2788.1\n",
      "No. Observations:                1324   AIC:                             5588.\n",
      "Df Residuals:                    1318   BIC:                             5619.\n",
      "Df Model:                           5                                         \n",
      "Covariance Type:            nonrobust                                         \n",
      "===============================================================================\n",
      "                  coef    std err          t      P>|t|      [0.025      0.975]\n",
      "-------------------------------------------------------------------------------\n",
      "const           5.0983      0.544      9.371      0.000       4.031       6.166\n",
      "t2             -1.5092      0.125    -12.054      0.000      -1.755      -1.264\n",
      "dIPWusch       -0.1539      0.023     -6.660      0.000      -0.199      -0.109\n",
      "college         0.0836      0.007     12.479      0.000       0.070       0.097\n",
      "foreignborn     0.0046      0.010      0.477      0.634      -0.014       0.024\n",
      "routine        -0.3326      0.018    -18.168      0.000      -0.369      -0.297\n",
      "==============================================================================\n",
      "Omnibus:                      127.369   Durbin-Watson:                   1.491\n",
      "Prob(Omnibus):                  0.000   Jarque-Bera (JB):              529.538\n",
      "Skew:                          -0.370   Prob(JB):                    1.03e-115\n",
      "Kurtosis:                       6.009   Cond. No.                         540.\n",
      "==============================================================================\n",
      "\n",
      "Notes:\n",
      "[1] Standard Errors assume that the covariance matrix of the errors is correctly specified.\n"
     ]
    }
   ],
   "source": [
    "import statsmodels.api as sm\n",
    "\n",
    "y = df['dsL']\n",
    "X = df[['t2', 'dIPWusch', 'college', 'foreignborn', 'routine']]\n",
    "X = sm.add_constant(X)\n",
    "model = sm.OLS(y, X).fit()\n",
    "\n",
    "print(model.summary())"
   ]
  },
  {
   "cell_type": "markdown",
   "metadata": {},
   "source": [
    "### Problem 2"
   ]
  },
  {
   "cell_type": "code",
   "execution_count": 42,
   "metadata": {},
   "outputs": [
    {
     "name": "stdout",
     "output_type": "stream",
     "text": [
      "                          IV-2SLS Estimation Summary                          \n",
      "==============================================================================\n",
      "Dep. Variable:                    dsL   R-squared:                      0.4058\n",
      "Estimator:                    IV-2SLS   Adj. R-squared:                 0.4030\n",
      "No. Observations:                1324   F-statistic:                    618.48\n",
      "Date:                Wed, Oct 23 2024   P-value (F-stat)                0.0000\n",
      "Time:                        12:03:27   Distribution:                  chi2(6)\n",
      "Cov. Estimator:                robust                                         \n",
      "                                                                              \n",
      "                              Parameter Estimates                              \n",
      "===============================================================================\n",
      "             Parameter  Std. Err.     T-stat    P-value    Lower CI    Upper CI\n",
      "-------------------------------------------------------------------------------\n",
      "const           4.9502     0.4773     10.371     0.0000      4.0147      5.8857\n",
      "t2             -1.1932     0.1438    -8.2955     0.0000     -1.4751     -0.9113\n",
      "dIPWusch       -0.0128     0.0505    -0.2536     0.7998     -0.1119      0.0862\n",
      "college         0.0715     0.0079     9.0116     0.0000      0.0560      0.0871\n",
      "foreignborn    -0.0001     0.0065    -0.0211     0.9832     -0.0129      0.0127\n",
      "routine        -0.3038     0.0231    -13.157     0.0000     -0.3491     -0.2586\n",
      "dIPWotch       -0.3034     0.0807    -3.7578     0.0002     -0.4617     -0.1452\n",
      "===============================================================================\n",
      "\n",
      "Endogenous: dIPWotch\n",
      "Instruments: dIPWotch\n",
      "Robust Covariance (Heteroskedastic)\n",
      "Debiased: False\n"
     ]
    }
   ],
   "source": [
    "from linearmodels.iv import IV2SLS\n",
    "\n",
    "y = df['dsL']\n",
    "\n",
    "X = df[['t2', 'dIPWusch', 'college', 'foreignborn', 'routine']]\n",
    "Z = df['dIPWotch']\n",
    "endog = df['dIPWotch']\n",
    "\n",
    "X = sm.add_constant(X)\n",
    "\n",
    "iv_model = IV2SLS(y, X, endog=endog, instruments=Z).fit()\n",
    "\n",
    "print(iv_model.summary)\n"
   ]
  },
  {
   "cell_type": "code",
   "execution_count": 43,
   "metadata": {},
   "outputs": [
    {
     "name": "stdout",
     "output_type": "stream",
     "text": [
      "                          IV-2SLS Estimation Summary                          \n",
      "==============================================================================\n",
      "Dep. Variable:                    dsL   R-squared:                      0.3426\n",
      "Estimator:                    IV-2SLS   Adj. R-squared:                 0.3401\n",
      "No. Observations:                1324   F-statistic:                    584.90\n",
      "Date:                Wed, Oct 23 2024   P-value (F-stat)                0.0000\n",
      "Time:                        12:03:27   Distribution:                  chi2(5)\n",
      "Cov. Estimator:                robust                                         \n",
      "                                                                              \n",
      "                              Parameter Estimates                              \n",
      "===============================================================================\n",
      "             Parameter  Std. Err.     T-stat    P-value    Lower CI    Upper CI\n",
      "-------------------------------------------------------------------------------\n",
      "const           4.6095     0.5120     9.0030     0.0000      3.6060      5.6129\n",
      "t2             -1.1333     0.1743    -6.5015     0.0000     -1.4750     -0.7917\n",
      "college         0.0704     0.0083     8.4875     0.0000      0.0542      0.0867\n",
      "foreignborn    -0.0057     0.0072    -0.7961     0.4260     -0.0198      0.0084\n",
      "routine        -0.2860     0.0258    -11.079     0.0000     -0.3366     -0.2354\n",
      "dIPWusch       -0.3527     0.0786    -4.4884     0.0000     -0.5067     -0.1987\n",
      "===============================================================================\n",
      "\n",
      "Endogenous: dIPWusch\n",
      "Instruments: dIPWotch, dIPWukch\n",
      "Robust Covariance (Heteroskedastic)\n",
      "Debiased: False\n",
      "Hansen's J-statistic: 0.8191814639671038\n",
      "P-value for J-statistic: 0.3654195952482282\n"
     ]
    }
   ],
   "source": [
    "y = df['dsL']\n",
    "X = df[['t2', 'college', 'foreignborn', 'routine']]\n",
    "endog = df['dIPWusch']\n",
    "Z = df[['dIPWotch', 'dIPWukch']]  \n",
    "\n",
    "X = sm.add_constant(X)\n",
    "\n",
    "iv_model = IV2SLS(y, X, endog=endog, instruments=Z).fit()\n",
    "iv_resid = iv_model.resids\n",
    "help_reg = sm.OLS(iv_resid, sm.add_constant(Z)).fit()\n",
    "nR2 = help_reg.nobs * help_reg.rsquared\n",
    "\n",
    "from scipy.stats import chi2\n",
    "p_value = chi2.sf(nR2, df=Z.shape[1] - 1)\n",
    "\n",
    "print(iv_model.summary)\n",
    "\n",
    "print(f\"Hansen's J-statistic: {nR2}\")\n",
    "print(f\"P-value for J-statistic: {p_value}\")\n"
   ]
  },
  {
   "cell_type": "code",
   "execution_count": 44,
   "metadata": {},
   "outputs": [
    {
     "name": "stdout",
     "output_type": "stream",
     "text": [
      "\\begin{center}\n",
      "\\begin{tabular}{lclc}\n",
      "\\toprule\n",
      "\\textbf{Dep. Variable:}    &        dsL         & \\textbf{  R-squared:         } &      0.3088      \\\\\n",
      "\\textbf{Estimator:}        &      IV-2SLS       & \\textbf{  Adj. R-squared:    } &      0.3057      \\\\\n",
      "\\textbf{No. Observations:} &        1324        & \\textbf{  F-statistic:       } &      538.01      \\\\\n",
      "\\textbf{Date:}             &  Wed, Oct 23 2024  & \\textbf{  P-value (F-stat)   } &      0.0000      \\\\\n",
      "\\textbf{Time:}             &      12:03:28      & \\textbf{  Distribution:      } &     chi2(6)      \\\\\n",
      "\\textbf{Cov. Estimator:}   &       robust       & \\textbf{                     } &                  \\\\\n",
      "\\textbf{}                  &                    & \\textbf{                     } &                  \\\\\n",
      "\\bottomrule\n",
      "\\end{tabular}\n",
      "\\begin{tabular}{lcccccc}\n",
      "                     & \\textbf{Parameter} & \\textbf{Std. Err.} & \\textbf{T-stat} & \\textbf{P-value} & \\textbf{Lower CI} & \\textbf{Upper CI}  \\\\\n",
      "\\midrule\n",
      "\\textbf{const}       &       4.4299       &       0.5490       &      8.0695     &      0.0000      &       3.3540      &       5.5059       \\\\\n",
      "\\textbf{t2}          &      -1.3575       &       0.3745       &     -3.6252     &      0.0003      &      -2.0914      &      -0.6236       \\\\\n",
      "\\textbf{college}     &       0.0606       &       0.0131       &      4.6404     &      0.0000      &       0.0350      &       0.0862       \\\\\n",
      "\\textbf{foreignborn} &      -0.0122       &       0.0100       &     -1.2165     &      0.2238      &      -0.0318      &       0.0074       \\\\\n",
      "\\textbf{routine}     &      -0.2511       &       0.0437       &     -5.7523     &      0.0000      &      -0.3367      &      -0.1656       \\\\\n",
      "\\textbf{dIPWusch}    &      -0.3403       &       0.1010       &     -3.3677     &      0.0008      &      -0.5383      &      -0.1423       \\\\\n",
      "\\textbf{dIPWusmx}    &      -0.2767       &       0.3231       &     -0.8562     &      0.3919      &      -0.9100      &       0.3567       \\\\\n",
      "\\bottomrule\n",
      "\\end{tabular}\n",
      "%\\caption{IV-2SLS Estimation Summary}\n",
      "\\end{center}\n",
      "\n",
      "Endogenous: dIPWusch, dIPWusmx \\newline\n",
      " Instruments: dIPWotch, dIPWotmx \\newline\n",
      " Robust Covariance (Heteroskedastic) \\newline\n",
      " Debiased: False\n"
     ]
    }
   ],
   "source": [
    "y = df['dsL']  \n",
    "\n",
    "X = df[['t2', 'college', 'foreignborn', 'routine']] \n",
    "\n",
    "endog = df[['dIPWusch', 'dIPWusmx']] \n",
    "\n",
    "Z = df[['dIPWotch', 'dIPWotmx']] \n",
    "\n",
    "X = sm.add_constant(X)\n",
    "\n",
    "iv_model = IV2SLS(y, X, endog=endog, instruments=Z).fit()\n",
    "\n",
    "print(iv_model.summary.as_latex())"
   ]
  },
  {
   "cell_type": "markdown",
   "metadata": {},
   "source": [
    "### Problem 3"
   ]
  },
  {
   "cell_type": "code",
   "execution_count": 18,
   "metadata": {},
   "outputs": [
    {
     "data": {
      "text/html": [
       "<table class=\"simpletable\">\n",
       "<caption>OLS Regression Results</caption>\n",
       "<tr>\n",
       "  <th>Dep. Variable:</th>           <td>dsL</td>       <th>  R-squared:         </th> <td>   0.406</td> \n",
       "</tr>\n",
       "<tr>\n",
       "  <th>Model:</th>                   <td>OLS</td>       <th>  Adj. R-squared:    </th> <td>   0.403</td> \n",
       "</tr>\n",
       "<tr>\n",
       "  <th>Method:</th>             <td>Least Squares</td>  <th>  F-statistic:       </th> <td>   150.2</td> \n",
       "</tr>\n",
       "<tr>\n",
       "  <th>Date:</th>             <td>Wed, 23 Oct 2024</td> <th>  Prob (F-statistic):</th> <td>3.15e-145</td>\n",
       "</tr>\n",
       "<tr>\n",
       "  <th>Time:</th>                 <td>12:39:51</td>     <th>  Log-Likelihood:    </th> <td> -2756.9</td> \n",
       "</tr>\n",
       "<tr>\n",
       "  <th>No. Observations:</th>      <td>  1324</td>      <th>  AIC:               </th> <td>   5528.</td> \n",
       "</tr>\n",
       "<tr>\n",
       "  <th>Df Residuals:</th>          <td>  1317</td>      <th>  BIC:               </th> <td>   5564.</td> \n",
       "</tr>\n",
       "<tr>\n",
       "  <th>Df Model:</th>              <td>     6</td>      <th>                     </th>     <td> </td>    \n",
       "</tr>\n",
       "<tr>\n",
       "  <th>Covariance Type:</th>      <td>nonrobust</td>    <th>                     </th>     <td> </td>    \n",
       "</tr>\n",
       "</table>\n",
       "<table class=\"simpletable\">\n",
       "<tr>\n",
       "           <td></td>             <th>coef</th>     <th>std err</th>      <th>t</th>      <th>P>|t|</th>  <th>[0.025</th>    <th>0.975]</th>  \n",
       "</tr>\n",
       "<tr>\n",
       "  <th>const</th>              <td>    4.4997</td> <td>    0.538</td> <td>    8.369</td> <td> 0.000</td> <td>    3.445</td> <td>    5.554</td>\n",
       "</tr>\n",
       "<tr>\n",
       "  <th>fitted_dIPWusch</th>    <td>   -0.2877</td> <td>    0.092</td> <td>   -3.134</td> <td> 0.002</td> <td>   -0.468</td> <td>   -0.108</td>\n",
       "</tr>\n",
       "<tr>\n",
       "  <th>fitted_t2_dIPWusch</th> <td>   -0.1033</td> <td>    0.094</td> <td>   -1.094</td> <td> 0.274</td> <td>   -0.289</td> <td>    0.082</td>\n",
       "</tr>\n",
       "<tr>\n",
       "  <th>t2</th>                 <td>   -0.9525</td> <td>    0.179</td> <td>   -5.335</td> <td> 0.000</td> <td>   -1.303</td> <td>   -0.602</td>\n",
       "</tr>\n",
       "<tr>\n",
       "  <th>college</th>            <td>    0.0704</td> <td>    0.007</td> <td>   10.075</td> <td> 0.000</td> <td>    0.057</td> <td>    0.084</td>\n",
       "</tr>\n",
       "<tr>\n",
       "  <th>foreignborn</th>        <td>   -0.0062</td> <td>    0.010</td> <td>   -0.648</td> <td> 0.517</td> <td>   -0.025</td> <td>    0.013</td>\n",
       "</tr>\n",
       "<tr>\n",
       "  <th>routine</th>            <td>   -0.2847</td> <td>    0.020</td> <td>  -14.496</td> <td> 0.000</td> <td>   -0.323</td> <td>   -0.246</td>\n",
       "</tr>\n",
       "</table>\n",
       "<table class=\"simpletable\">\n",
       "<tr>\n",
       "  <th>Omnibus:</th>       <td>139.333</td> <th>  Durbin-Watson:     </th> <td>   1.485</td> \n",
       "</tr>\n",
       "<tr>\n",
       "  <th>Prob(Omnibus):</th> <td> 0.000</td>  <th>  Jarque-Bera (JB):  </th> <td> 737.655</td> \n",
       "</tr>\n",
       "<tr>\n",
       "  <th>Skew:</th>          <td>-0.329</td>  <th>  Prob(JB):          </th> <td>6.61e-161</td>\n",
       "</tr>\n",
       "<tr>\n",
       "  <th>Kurtosis:</th>      <td> 6.597</td>  <th>  Cond. No.          </th> <td>    547.</td> \n",
       "</tr>\n",
       "</table><br/><br/>Notes:<br/>[1] Standard Errors assume that the covariance matrix of the errors is correctly specified."
      ],
      "text/latex": [
       "\\begin{center}\n",
       "\\begin{tabular}{lclc}\n",
       "\\toprule\n",
       "\\textbf{Dep. Variable:}       &       dsL        & \\textbf{  R-squared:         } &     0.406   \\\\\n",
       "\\textbf{Model:}               &       OLS        & \\textbf{  Adj. R-squared:    } &     0.403   \\\\\n",
       "\\textbf{Method:}              &  Least Squares   & \\textbf{  F-statistic:       } &     150.2   \\\\\n",
       "\\textbf{Date:}                & Wed, 23 Oct 2024 & \\textbf{  Prob (F-statistic):} & 3.15e-145   \\\\\n",
       "\\textbf{Time:}                &     12:39:51     & \\textbf{  Log-Likelihood:    } &   -2756.9   \\\\\n",
       "\\textbf{No. Observations:}    &        1324      & \\textbf{  AIC:               } &     5528.   \\\\\n",
       "\\textbf{Df Residuals:}        &        1317      & \\textbf{  BIC:               } &     5564.   \\\\\n",
       "\\textbf{Df Model:}            &           6      & \\textbf{                     } &             \\\\\n",
       "\\textbf{Covariance Type:}     &    nonrobust     & \\textbf{                     } &             \\\\\n",
       "\\bottomrule\n",
       "\\end{tabular}\n",
       "\\begin{tabular}{lcccccc}\n",
       "                              & \\textbf{coef} & \\textbf{std err} & \\textbf{t} & \\textbf{P$> |$t$|$} & \\textbf{[0.025} & \\textbf{0.975]}  \\\\\n",
       "\\midrule\n",
       "\\textbf{const}                &       4.4997  &        0.538     &     8.369  &         0.000        &        3.445    &        5.554     \\\\\n",
       "\\textbf{fitted\\_dIPWusch}     &      -0.2877  &        0.092     &    -3.134  &         0.002        &       -0.468    &       -0.108     \\\\\n",
       "\\textbf{fitted\\_t2\\_dIPWusch} &      -0.1033  &        0.094     &    -1.094  &         0.274        &       -0.289    &        0.082     \\\\\n",
       "\\textbf{t2}                   &      -0.9525  &        0.179     &    -5.335  &         0.000        &       -1.303    &       -0.602     \\\\\n",
       "\\textbf{college}              &       0.0704  &        0.007     &    10.075  &         0.000        &        0.057    &        0.084     \\\\\n",
       "\\textbf{foreignborn}          &      -0.0062  &        0.010     &    -0.648  &         0.517        &       -0.025    &        0.013     \\\\\n",
       "\\textbf{routine}              &      -0.2847  &        0.020     &   -14.496  &         0.000        &       -0.323    &       -0.246     \\\\\n",
       "\\bottomrule\n",
       "\\end{tabular}\n",
       "\\begin{tabular}{lclc}\n",
       "\\textbf{Omnibus:}       & 139.333 & \\textbf{  Durbin-Watson:     } &     1.485  \\\\\n",
       "\\textbf{Prob(Omnibus):} &   0.000 & \\textbf{  Jarque-Bera (JB):  } &   737.655  \\\\\n",
       "\\textbf{Skew:}          &  -0.329 & \\textbf{  Prob(JB):          } & 6.61e-161  \\\\\n",
       "\\textbf{Kurtosis:}      &   6.597 & \\textbf{  Cond. No.          } &      547.  \\\\\n",
       "\\bottomrule\n",
       "\\end{tabular}\n",
       "%\\caption{OLS Regression Results}\n",
       "\\end{center}\n",
       "\n",
       "Notes: \\newline\n",
       " [1] Standard Errors assume that the covariance matrix of the errors is correctly specified."
      ],
      "text/plain": [
       "<class 'statsmodels.iolib.summary.Summary'>\n",
       "\"\"\"\n",
       "                            OLS Regression Results                            \n",
       "==============================================================================\n",
       "Dep. Variable:                    dsL   R-squared:                       0.406\n",
       "Model:                            OLS   Adj. R-squared:                  0.403\n",
       "Method:                 Least Squares   F-statistic:                     150.2\n",
       "Date:                Wed, 23 Oct 2024   Prob (F-statistic):          3.15e-145\n",
       "Time:                        12:39:51   Log-Likelihood:                -2756.9\n",
       "No. Observations:                1324   AIC:                             5528.\n",
       "Df Residuals:                    1317   BIC:                             5564.\n",
       "Df Model:                           6                                         \n",
       "Covariance Type:            nonrobust                                         \n",
       "======================================================================================\n",
       "                         coef    std err          t      P>|t|      [0.025      0.975]\n",
       "--------------------------------------------------------------------------------------\n",
       "const                  4.4997      0.538      8.369      0.000       3.445       5.554\n",
       "fitted_dIPWusch       -0.2877      0.092     -3.134      0.002      -0.468      -0.108\n",
       "fitted_t2_dIPWusch    -0.1033      0.094     -1.094      0.274      -0.289       0.082\n",
       "t2                    -0.9525      0.179     -5.335      0.000      -1.303      -0.602\n",
       "college                0.0704      0.007     10.075      0.000       0.057       0.084\n",
       "foreignborn           -0.0062      0.010     -0.648      0.517      -0.025       0.013\n",
       "routine               -0.2847      0.020    -14.496      0.000      -0.323      -0.246\n",
       "==============================================================================\n",
       "Omnibus:                      139.333   Durbin-Watson:                   1.485\n",
       "Prob(Omnibus):                  0.000   Jarque-Bera (JB):              737.655\n",
       "Skew:                          -0.329   Prob(JB):                    6.61e-161\n",
       "Kurtosis:                       6.597   Cond. No.                         547.\n",
       "==============================================================================\n",
       "\n",
       "Notes:\n",
       "[1] Standard Errors assume that the covariance matrix of the errors is correctly specified.\n",
       "\"\"\""
      ]
     },
     "execution_count": 18,
     "metadata": {},
     "output_type": "execute_result"
    }
   ],
   "source": [
    "#3.2\n",
    "df['t2_dIPWusch'] = df['t2'] * df['dIPWusch']\n",
    "df['t2_dIPWotch'] = df['t2'] * df['dIPWotch']\n",
    "\n",
    "df['fitted_dIPWusch'] = sm.OLS(df['dIPWusch'], sm.add_constant(df[['dIPWotch', 't2', 'college', 'foreignborn', 'routine']])).fit().fittedvalues\n",
    "df['fitted_t2_dIPWusch'] = sm.OLS(df['t2_dIPWusch'], sm.add_constant(df[['t2_dIPWotch', 't2', 'college', 'foreignborn', 'routine']])).fit().fittedvalues\n",
    "\n",
    "second_stage_model = sm.OLS(df['dsL'], sm.add_constant(df[['fitted_dIPWusch', 'fitted_t2_dIPWusch', 't2', 'college', 'foreignborn', 'routine']]))\n",
    "second_stage_results = second_stage_model.fit()\n",
    "\n",
    "second_stage_results.summary()"
   ]
  },
  {
   "cell_type": "code",
   "execution_count": 26,
   "metadata": {},
   "outputs": [
    {
     "name": "stdout",
     "output_type": "stream",
     "text": [
      "                          IV-2SLS Estimation Summary                          \n",
      "==============================================================================\n",
      "Dep. Variable:                    dsL   R-squared:                      0.3332\n",
      "Estimator:                    IV-2SLS   Adj. R-squared:                 0.3307\n",
      "No. Observations:                1324   F-statistic:                    582.06\n",
      "Date:                Wed, Oct 23 2024   P-value (F-stat)                0.0000\n",
      "Time:                        12:47:35   Distribution:                  chi2(5)\n",
      "Cov. Estimator:                robust                                         \n",
      "                                                                              \n",
      "                              Parameter Estimates                              \n",
      "===============================================================================\n",
      "             Parameter  Std. Err.     T-stat    P-value    Lower CI    Upper CI\n",
      "-------------------------------------------------------------------------------\n",
      "const           4.5477     0.5407     8.4111     0.0000      3.4880      5.6074\n",
      "t2             -1.0858     0.2012    -5.3954     0.0000     -1.4802     -0.6914\n",
      "college         0.0688     0.0095     7.2502     0.0000      0.0502      0.0874\n",
      "foreignborn    -0.0070     0.0077    -0.9175     0.3589     -0.0221      0.0080\n",
      "routine        -0.2801     0.0305    -9.1947     0.0000     -0.3399     -0.2204\n",
      "dIPWusch       -0.3778     0.1000    -3.7780     0.0002     -0.5738     -0.1818\n",
      "===============================================================================\n",
      "\n",
      "Endogenous: dIPWusch\n",
      "Instruments: dIPWotch, dIPWotmx\n",
      "Robust Covariance (Heteroskedastic)\n",
      "Debiased: False\n"
     ]
    }
   ],
   "source": [
    "y = df['dsL']  \n",
    "X = df[['t2', 'college', 'foreignborn', 'routine']] \n",
    "endog = df[['dIPWusch']]  \n",
    "Z = df[['dIPWotch', 'dIPWotmx']] \n",
    "X = sm.add_constant(X)\n",
    "\n",
    "iv_model = IV2SLS(y, X, endog=endog, instruments=Z).fit()\n",
    "\n",
    "print(iv_model.summary)\n"
   ]
  },
  {
   "cell_type": "markdown",
   "metadata": {},
   "source": [
    "## Problem 4"
   ]
  },
  {
   "cell_type": "code",
   "execution_count": null,
   "metadata": {},
   "outputs": [],
   "source": []
  },
  {
   "cell_type": "markdown",
   "metadata": {},
   "source": [
    "## Problem 5"
   ]
  },
  {
   "cell_type": "code",
   "execution_count": 46,
   "metadata": {},
   "outputs": [
    {
     "data": {
      "image/png": "[encoded data removed]",
      "text/plain": [
       "<Figure size 1200x600 with 1 Axes>"
      ]
     },
     "metadata": {},
     "output_type": "display_data"
    },
    {
     "data": {
      "image/png": "[encoded data removed]",
      "text/plain": [
       "<Figure size 1200x600 with 1 Axes>"
      ]
     },
     "metadata": {},
     "output_type": "display_data"
    },
    {
     "data": {
      "image/png": "[encoded data removed]",
      "text/plain": [
       "<Figure size 1200x600 with 1 Axes>"
      ]
     },
     "metadata": {},
     "output_type": "display_data"
    },
    {
     "data": {
      "image/png": "[encoded data removed]",
      "text/plain": [
       "<Figure size 1200x600 with 1 Axes>"
      ]
     },
     "metadata": {},
     "output_type": "display_data"
    }
   ],
   "source": [
    "import numpy as np\n",
    "import statsmodels.api as sm\n",
    "from linearmodels.iv import IV2SLS\n",
    "import matplotlib.pyplot as plt\n",
    "\n",
    "# Antal observationer og replikationer\n",
    "n = 1000\n",
    "replications = 500\n",
    "\n",
    "# Parametre\n",
    "beta_0 = 4\n",
    "beta_1 = 3\n",
    "theta = 1\n",
    "rho_values = [-0.5, 0, 0.5, 1]  # Forskellige rho-værdier for korrelation mellem målefejl\n",
    "\n",
    "# Opbevar resultater for OLS og IV estimater\n",
    "ols_estimates = []\n",
    "iv_estimates = []\n",
    "\n",
    "# Vælg en seed for konsistens\n",
    "np.random.seed(1234)\n",
    "\n",
    "# Simuler eksperimentet for hver rho-værdi\n",
    "for rho in rho_values:\n",
    "    ols_estimates_rho = []\n",
    "    iv_estimates_rho = []\n",
    "    \n",
    "    for _ in range(replications):\n",
    "        # Simuler x*, u, epsilon, mu\n",
    "        x_star = np.random.normal(1, np.sqrt(4), n)  # Den sande forklaringsvariabel\n",
    "        u = np.random.normal(0, 1, n)  # Fejlled i den afhængige variabel\n",
    "        epsilon = np.random.normal(0, 1, n)  # Målefejl i x\n",
    "        mu = np.random.normal(0, 1, n)  # Fejl i instrumentvariablen\n",
    "        \n",
    "        # Skab de observerede variable x og z\n",
    "        x = x_star + epsilon  # Den observerede forklaringsvariabel med målefejl\n",
    "        eta = rho * epsilon + mu  # Målefejl i instrumentet afhængig af epsilon\n",
    "        z = theta * x_star + eta  # Instrument, som også har målefejl\n",
    "        \n",
    "        # Skab y som afhængig variabel\n",
    "        y = beta_0 + beta_1 * x_star + u  # Den afhængige variabel\n",
    "\n",
    "        # Estimer OLS (ingen instrumentering)\n",
    "        X_ols = sm.add_constant(x)  # Tilføj konstantled til OLS\n",
    "        ols_model = sm.OLS(y, X_ols).fit()\n",
    "        ols_estimates_rho.append(ols_model.params[1])\n",
    "        \n",
    "        # Estimer IV (brug z som instrument for x)\n",
    "        X_iv = sm.add_constant(np.ones_like(x))  # Tilføj konstantled til IV\n",
    "        iv_model = IV2SLS(y, X_iv, endog=x, instruments=z).fit()\n",
    "        iv_estimates_rho.append(iv_model.params.iloc[1])  # Rettet til iloc for at undgå advarsel\n",
    "    \n",
    "    # Gem estimater for denne rho-værdi\n",
    "    ols_estimates.append(ols_estimates_rho)\n",
    "    iv_estimates.append(iv_estimates_rho)\n",
    "\n",
    "    # Plot histogrammer for OLS og IV estimater\n",
    "    plt.figure(figsize=(12, 6))\n",
    "    plt.hist(ols_estimates_rho, bins=30, alpha=0.5, label=\"OLS\", color=\"blue\")\n",
    "    plt.hist(iv_estimates_rho, bins=30, alpha=0.5, label=\"IV\", color=\"red\")\n",
    "    plt.title(f\"Distribution of OLS and IV Estimates (rho = {rho})\")\n",
    "    plt.xlabel(\"Estimat\")\n",
    "    plt.ylabel(\"Frekvens\")\n",
    "    plt.legend()\n",
    "    plt.show()"
   ]
  },
  {
   "cell_type": "code",
   "execution_count": null,
   "metadata": {},
   "outputs": [],
   "source": []
  }
 ],
 "metadata": {
  "kernelspec": {
   "display_name": "base",
   "language": "python",
   "name": "python3"
  },
  "language_info": {
   "codemirror_mode": {
    "name": "ipython",
    "version": 3
   },
   "file_extension": ".py",
   "mimetype": "text/x-python",
   "name": "python",
   "nbconvert_exporter": "python",
   "pygments_lexer": "ipython3",
   "version": "3.11.7"
  }
 },
 "nbformat": 4,
 "nbformat_minor": 2
}

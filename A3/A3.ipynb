{
 "cells": [
  {
   "cell_type": "markdown",
   "metadata": {},
   "source": [
    "# Mandatory Assignment 3\n"
   ]
  },
  {
   "cell_type": "markdown",
   "metadata": {},
   "source": [
    "## US Jobs and Import Competition from China \n",
    "Af: Mathias Nikolaisen(dnt357), Oliver Mattthews(jvc975) & Clara Maj Folkmann(djz279)"
   ]
  },
  {
   "cell_type": "markdown",
   "metadata": {},
   "source": [
    "### Problem 1"
   ]
  },
  {
   "cell_type": "code",
   "execution_count": 11,
   "metadata": {},
   "outputs": [
    {
     "name": "stdout",
     "output_type": "stream",
     "text": [
      "1990-2000 (t2 = 0):\n",
      "              dsL    dIPWusch     college     routine    dIPWusmx  \\\n",
      "count  662.000000  662.000000  662.000000  662.000000  662.000000   \n",
      "mean    -0.957021    1.186600   42.097832   28.288479    1.385140   \n",
      "std      2.240247    1.838066    8.530094    3.383778    1.745306   \n",
      "min    -19.167072   -0.075351   19.943975   19.991844   -0.472184   \n",
      "25%     -2.084500    0.248525   35.936215   25.965810    0.200659   \n",
      "50%     -0.685493    0.744347   42.515060   28.257560    0.819297   \n",
      "75%      0.379791    1.426852   47.567284   30.532486    1.908813   \n",
      "max      5.664484   25.405270   62.898552   37.747578   12.595978   \n",
      "\n",
      "       foreignborn    dIPWotch    dIPWukch    dIPWotmx  \n",
      "count   662.000000  662.000000  662.000000  662.000000  \n",
      "mean      3.916187    1.016592    0.728172    0.014953  \n",
      "std       4.988597    1.083533    1.053982    0.112670  \n",
      "min       0.384527   -0.467243   -0.687543   -1.519587  \n",
      "25%       1.341436    0.282036    0.122727    0.000772  \n",
      "50%       2.182302    0.663031    0.544912    0.012937  \n",
      "75%       4.589448    1.398126    1.002490    0.037991  \n",
      "max      39.943974    8.616317   13.057814    0.516513  \n",
      "2000-2007 (t2 = 1):\n",
      "              dsL    dIPWusch     college     routine    dIPWusmx  \\\n",
      "count  662.000000  662.000000  662.000000  662.000000  662.000000   \n",
      "mean    -2.338758    2.679514   48.228367   28.783823    0.437119   \n",
      "std      2.595415    3.103919    8.550499    2.909874    1.112927   \n",
      "min    -14.378567   -0.628958   26.319662   22.226875   -6.336742   \n",
      "25%     -3.925830    0.887486   41.964255   26.673899    0.015004   \n",
      "50%     -2.073025    1.941413   49.106943   28.841130    0.229687   \n",
      "75%     -0.595540    3.456478   54.271556   30.752334    0.665769   \n",
      "max      4.642012   43.084606   69.337563   36.656250    7.505163   \n",
      "\n",
      "       foreignborn    dIPWotch    dIPWukch    dIPWotmx  \n",
      "count   662.000000  662.000000  662.000000  662.000000  \n",
      "mean      6.030307    2.523601    1.686539    0.082909  \n",
      "std       6.473850    2.583369    1.789099    0.163234  \n",
      "min       0.725720   -0.723334   -0.964006   -0.716238  \n",
      "25%       2.171051    0.737589    0.545885    0.008783  \n",
      "50%       3.772679    2.016384    1.362290    0.040040  \n",
      "75%       6.962920    3.502216    2.376703    0.090396  \n",
      "max      48.908226   28.655161   22.502012    1.447995  \n"
     ]
    }
   ],
   "source": [
    "import pandas as pd\n",
    "\n",
    "\n",
    "data_path = 'A3_X2017S_MetricsI.dta'\n",
    "df = pd.read_stata(data_path)\n",
    "\n",
    "# Beregn beskrivende statistik for hver periode\n",
    "summary_stats_period_0 = df[df['t2'] == 0][['dsL', 'dIPWusch', 'college', 'routine', 'dIPWusmx', 'foreignborn', 'dIPWotch', 'dIPWukch', 'dIPWotmx']].describe()\n",
    "summary_stats_period_1 = df[df['t2'] == 1][['dsL', 'dIPWusch', 'college', 'routine', 'dIPWusmx', 'foreignborn', 'dIPWotch', 'dIPWukch', 'dIPWotmx']].describe()\n",
    "\n",
    "# Udskriv summariske statistikker for begge perioder\n",
    "print(\"1990-2000 (t2 = 0):\")\n",
    "print(summary_stats_period_0)\n",
    "\n",
    "print(\"2000-2007 (t2 = 1):\")\n",
    "print(summary_stats_period_1)"
   ]
  },
  {
   "cell_type": "code",
   "execution_count": 13,
   "metadata": {},
   "outputs": [
    {
     "name": "stdout",
     "output_type": "stream",
     "text": [
      "                            OLS Regression Results                            \n",
      "==============================================================================\n",
      "Dep. Variable:                    dsL   R-squared:                       0.378\n",
      "Model:                            OLS   Adj. R-squared:                  0.375\n",
      "Method:                 Least Squares   F-statistic:                     159.9\n",
      "Date:                Tue, 22 Oct 2024   Prob (F-statistic):          6.08e-133\n",
      "Time:                        13:15:54   Log-Likelihood:                -2788.1\n",
      "No. Observations:                1324   AIC:                             5588.\n",
      "Df Residuals:                    1318   BIC:                             5619.\n",
      "Df Model:                           5                                         \n",
      "Covariance Type:            nonrobust                                         \n",
      "===============================================================================\n",
      "                  coef    std err          t      P>|t|      [0.025      0.975]\n",
      "-------------------------------------------------------------------------------\n",
      "const           5.0983      0.544      9.371      0.000       4.031       6.166\n",
      "t2             -1.5092      0.125    -12.054      0.000      -1.755      -1.264\n",
      "dIPWusch       -0.1539      0.023     -6.660      0.000      -0.199      -0.109\n",
      "college         0.0836      0.007     12.479      0.000       0.070       0.097\n",
      "foreignborn     0.0046      0.010      0.477      0.634      -0.014       0.024\n",
      "routine        -0.3326      0.018    -18.168      0.000      -0.369      -0.297\n",
      "==============================================================================\n",
      "Omnibus:                      127.369   Durbin-Watson:                   1.491\n",
      "Prob(Omnibus):                  0.000   Jarque-Bera (JB):              529.538\n",
      "Skew:                          -0.370   Prob(JB):                    1.03e-115\n",
      "Kurtosis:                       6.009   Cond. No.                         540.\n",
      "==============================================================================\n",
      "\n",
      "Notes:\n",
      "[1] Standard Errors assume that the covariance matrix of the errors is correctly specified.\n"
     ]
    }
   ],
   "source": [
    "import statsmodels.api as sm\n",
    "\n",
    "y = df['dsL']\n",
    "X = df[['t2', 'dIPWusch', 'college', 'foreignborn', 'routine']]\n",
    "X = sm.add_constant(X)\n",
    "model = sm.OLS(y, X).fit()\n",
    "\n",
    "print(model.summary())"
   ]
  },
  {
   "cell_type": "markdown",
   "metadata": {},
   "source": [
    "### Problem 2"
   ]
  },
  {
   "cell_type": "code",
   "execution_count": 3,
   "metadata": {},
   "outputs": [
    {
     "ename": "NameError",
     "evalue": "name 'df' is not defined",
     "output_type": "error",
     "traceback": [
      "\u001b[0;31m---------------------------------------------------------------------------\u001b[0m",
      "\u001b[0;31mNameError\u001b[0m                                 Traceback (most recent call last)",
      "Cell \u001b[0;32mIn[3], line 3\u001b[0m\n\u001b[1;32m      1\u001b[0m \u001b[38;5;28;01mfrom\u001b[39;00m \u001b[38;5;21;01mlinearmodels\u001b[39;00m\u001b[38;5;21;01m.\u001b[39;00m\u001b[38;5;21;01miv\u001b[39;00m \u001b[38;5;28;01mimport\u001b[39;00m IV2SLS\n\u001b[0;32m----> 3\u001b[0m y \u001b[38;5;241m=\u001b[39m df[\u001b[38;5;124m'\u001b[39m\u001b[38;5;124mdsL\u001b[39m\u001b[38;5;124m'\u001b[39m]\n\u001b[1;32m      5\u001b[0m X \u001b[38;5;241m=\u001b[39m df[[\u001b[38;5;124m'\u001b[39m\u001b[38;5;124mt2\u001b[39m\u001b[38;5;124m'\u001b[39m, \u001b[38;5;124m'\u001b[39m\u001b[38;5;124mdIPWusch\u001b[39m\u001b[38;5;124m'\u001b[39m, \u001b[38;5;124m'\u001b[39m\u001b[38;5;124mcollege\u001b[39m\u001b[38;5;124m'\u001b[39m, \u001b[38;5;124m'\u001b[39m\u001b[38;5;124mforeignborn\u001b[39m\u001b[38;5;124m'\u001b[39m, \u001b[38;5;124m'\u001b[39m\u001b[38;5;124mroutine\u001b[39m\u001b[38;5;124m'\u001b[39m]]\n\u001b[1;32m      6\u001b[0m Z \u001b[38;5;241m=\u001b[39m df[\u001b[38;5;124m'\u001b[39m\u001b[38;5;124mdIPWotch\u001b[39m\u001b[38;5;124m'\u001b[39m]\n",
      "\u001b[0;31mNameError\u001b[0m: name 'df' is not defined"
     ]
    }
   ],
   "source": [
    "from linearmodels.iv import IV2SLS\n",
    "\n",
    "y = df['dsL']\n",
    "\n",
    "X = df[['t2', 'dIPWusch', 'college', 'foreignborn', 'routine']]\n",
    "Z = df['dIPWotch']\n",
    "endog = df['dIPWotch']\n",
    "\n",
    "X = sm.add_constant(X)\n",
    "\n",
    "iv_model = IV2SLS(y, X, endog=endog, instruments=Z).fit()\n",
    "\n",
    "print(iv_model.summary)\n"
   ]
  },
  {
   "cell_type": "markdown",
   "metadata": {},
   "source": [
    "### Problem 3"
   ]
  },
  {
   "cell_type": "code",
   "execution_count": 60,
   "metadata": {},
   "outputs": [
    {
     "name": "stdout",
     "output_type": "stream",
     "text": [
      "                            OLS Regression Results                            \n",
      "==============================================================================\n",
      "Dep. Variable:             ln_aarslon   R-squared:                       0.125\n",
      "Model:                            OLS   Adj. R-squared:                  0.124\n",
      "Method:                 Least Squares   F-statistic:                     114.6\n",
      "Date:                Sun, 06 Oct 2024   Prob (F-statistic):          1.48e-135\n",
      "Time:                        14:52:20   Log-Likelihood:                -3961.5\n",
      "No. Observations:                4800   AIC:                             7937.\n",
      "Df Residuals:                    4793   BIC:                             7982.\n",
      "Df Model:                           6                                         \n",
      "Covariance Type:            nonrobust                                         \n",
      "=================================================================================\n",
      "                    coef    std err          t      P>|t|      [0.025      0.975]\n",
      "---------------------------------------------------------------------------------\n",
      "const             8.0633      0.128     62.821      0.000       7.812       8.315\n",
      "alder             0.1103      0.007     16.467      0.000       0.097       0.123\n",
      "alder_squared    -0.0016   9.88e-05    -15.875      0.000      -0.002      -0.001\n",
      "YSM               0.4269      0.051      8.407      0.000       0.327       0.527\n",
      "YSM_squared      -0.0304      0.010     -3.142      0.002      -0.049      -0.011\n",
      "kohorte15         0.2662      0.027      9.752      0.000       0.213       0.320\n",
      "kohorte16         0.4258      0.037     11.361      0.000       0.352       0.499\n",
      "==============================================================================\n",
      "Omnibus:                      189.930   Durbin-Watson:                   1.440\n",
      "Prob(Omnibus):                  0.000   Jarque-Bera (JB):              307.587\n",
      "Skew:                          -0.349   Prob(JB):                     1.62e-67\n",
      "Kurtosis:                       4.025   Cond. No.                     1.68e+04\n",
      "==============================================================================\n",
      "\n",
      "Notes:\n",
      "[1] Standard Errors assume that the covariance matrix of the errors is correctly specified.\n",
      "[2] The condition number is large, 1.68e+04. This might indicate that there are\n",
      "strong multicollinearity or other numerical problems.\n",
      "Maximum income (in log terms) occurs approximately 7.02 years after migration.\n"
     ]
    }
   ],
   "source": []
  },
  {
   "cell_type": "markdown",
   "metadata": {},
   "source": [
    "## Problem 4"
   ]
  },
  {
   "cell_type": "code",
   "execution_count": null,
   "metadata": {},
   "outputs": [],
   "source": []
  },
  {
   "cell_type": "markdown",
   "metadata": {},
   "source": [
    "## Problem 5"
   ]
  },
  {
   "cell_type": "code",
   "execution_count": 46,
   "metadata": {},
   "outputs": [],
   "source": []
  }
 ],
 "metadata": {
  "kernelspec": {
   "display_name": "base",
   "language": "python",
   "name": "python3"
  },
  "language_info": {
   "codemirror_mode": {
    "name": "ipython",
    "version": 3
   },
   "file_extension": ".py",
   "mimetype": "text/x-python",
   "name": "python",
   "nbconvert_exporter": "python",
   "pygments_lexer": "ipython3",
   "version": "3.11.7"
  }
 },
 "nbformat": 4,
 "nbformat_minor": 2
}

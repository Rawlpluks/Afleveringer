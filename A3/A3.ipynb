{
 "cells": [
  {
   "cell_type": "markdown",
   "metadata": {},
   "source": [
    "# Mandatory Assignment 3\n"
   ]
  },
  {
   "cell_type": "markdown",
   "metadata": {},
   "source": [
    "## US Jobs and Import Competition from China \n",
    "Af: Mathias Nikolaisen(dnt357), Oliver Mattthews(jvc975) & Clara Maj Folkmann(djz279)"
   ]
  },
  {
   "cell_type": "markdown",
   "metadata": {},
   "source": [
    "### Problem 1"
   ]
  },
  {
   "cell_type": "code",
   "execution_count": 2,
   "metadata": {},
   "outputs": [
    {
     "name": "stdout",
     "output_type": "stream",
     "text": [
      "\\begin{tabular}{lrrrrrrrrr}\n",
      "\\toprule\n",
      " & dsL & dIPWusch & college & routine & dIPWusmx & foreignborn & dIPWotch & dIPWukch & dIPWotmx \\\\\n",
      "\\midrule\n",
      "count & 662.000000 & 662.000000 & 662.000000 & 662.000000 & 662.000000 & 662.000000 & 662.000000 & 662.000000 & 662.000000 \\\\\n",
      "mean & -2.338758 & 2.679514 & 48.228367 & 28.783823 & 0.437119 & 6.030307 & 2.523601 & 1.686539 & 0.082909 \\\\\n",
      "std & 2.595415 & 3.103919 & 8.550499 & 2.909874 & 1.112927 & 6.473850 & 2.583369 & 1.789099 & 0.163234 \\\\\n",
      "min & -14.378567 & -0.628958 & 26.319662 & 22.226875 & -6.336742 & 0.725720 & -0.723334 & -0.964006 & -0.716238 \\\\\n",
      "25% & -3.925830 & 0.887486 & 41.964255 & 26.673899 & 0.015004 & 2.171051 & 0.737589 & 0.545885 & 0.008783 \\\\\n",
      "50% & -2.073025 & 1.941413 & 49.106943 & 28.841130 & 0.229687 & 3.772679 & 2.016384 & 1.362290 & 0.040040 \\\\\n",
      "75% & -0.595540 & 3.456478 & 54.271556 & 30.752334 & 0.665769 & 6.962920 & 3.502216 & 2.376703 & 0.090396 \\\\\n",
      "max & 4.642012 & 43.084606 & 69.337563 & 36.656250 & 7.505163 & 48.908226 & 28.655161 & 22.502012 & 1.447995 \\\\\n",
      "\\bottomrule\n",
      "\\end{tabular}\n",
      "\n"
     ]
    }
   ],
   "source": [
    "import pandas as pd\n",
    "\n",
    "\n",
    "data_path = 'A3_X2017S_MetricsI.dta'\n",
    "df = pd.read_stata(data_path)\n",
    "\n",
    "# Beregn beskrivende statistik for hver periode\n",
    "summary_stats_period_0 = df[df['t2'] == 0][['dsL', 'dIPWusch', 'college', 'routine', 'dIPWusmx', 'foreignborn', 'dIPWotch', 'dIPWukch', 'dIPWotmx']].describe()\n",
    "summary_stats_period_1 = df[df['t2'] == 1][['dsL', 'dIPWusch', 'college', 'routine', 'dIPWusmx', 'foreignborn', 'dIPWotch', 'dIPWukch', 'dIPWotmx']].describe()\n",
    "\n",
    "# Udskriv summariske statistikker for begge perioder\n",
    "print(\"1990-2000 (t2 = 0):\")\n",
    "print(summary_stats_period_0)\n",
    "\n",
    "print(\"2000-2007 (t2 = 1):\")\n",
    "print(summary_stats_period_1)"
   ]
  },
  {
   "cell_type": "code",
   "execution_count": null,
   "metadata": {},
   "outputs": [],
   "source": [
    "import statsmodels.api as sm\n",
    "\n",
    "y = df['dsL']\n",
    "X = df[['t2', 'dIPWusch', 'college', 'foreignborn', 'routine']]\n",
    "X = sm.add_constant(X)\n",
    "model = sm.OLS(y, X).fit()\n",
    "\n",
    "print(model.summary())"
   ]
  },
  {
   "cell_type": "markdown",
   "metadata": {},
   "source": [
    "### Problem 2"
   ]
  },
  {
   "cell_type": "code",
   "execution_count": 66,
   "metadata": {},
   "outputs": [
    {
     "name": "stdout",
     "output_type": "stream",
     "text": [
      "                            OLS Regression Results                            \n",
      "==============================================================================\n",
      "Dep. Variable:                aarslon   R-squared:                       0.073\n",
      "Model:                            OLS   Adj. R-squared:                  0.072\n",
      "Method:                 Least Squares   F-statistic:                     125.4\n",
      "Date:                Sun, 06 Oct 2024   Prob (F-statistic):           3.61e-78\n",
      "Time:                        14:20:29   Log-Likelihood:                -4102.0\n",
      "No. Observations:                4800   AIC:                             8212.\n",
      "Df Residuals:                    4796   BIC:                             8238.\n",
      "Df Model:                           3                                         \n",
      "Covariance Type:            nonrobust                                         \n",
      "==============================================================================\n",
      "                 coef    std err          t      P>|t|      [0.025      0.975]\n",
      "------------------------------------------------------------------------------\n",
      "const       -457.8689     38.818    -11.795      0.000    -533.970    -381.768\n",
      "alder          0.0056      0.001      4.762      0.000       0.003       0.008\n",
      "YSM            0.2889      0.016     17.543      0.000       0.257       0.321\n",
      "ankomstaar     0.2322      0.019     12.065      0.000       0.194       0.270\n",
      "==============================================================================\n",
      "Omnibus:                      172.131   Durbin-Watson:                   1.426\n",
      "Prob(Omnibus):                  0.000   Jarque-Bera (JB):              250.575\n",
      "Skew:                          -0.354   Prob(JB):                     3.88e-55\n",
      "Kurtosis:                       3.866   Cond. No.                     9.53e+06\n",
      "==============================================================================\n",
      "\n",
      "Notes:\n",
      "[1] Standard Errors assume that the covariance matrix of the errors is correctly specified.\n",
      "[2] The condition number is large, 9.53e+06. This might indicate that there are\n",
      "strong multicollinearity or other numerical problems.\n"
     ]
    }
   ],
   "source": [
    "\n"
   ]
  },
  {
   "cell_type": "markdown",
   "metadata": {},
   "source": [
    "### Problem 3"
   ]
  },
  {
   "cell_type": "code",
   "execution_count": 4,
   "metadata": {},
   "outputs": [
    {
     "ename": "NameError",
     "evalue": "name 'X' is not defined",
     "output_type": "error",
     "traceback": [
      "\u001b[1;31m---------------------------------------------------------------------------\u001b[0m",
      "\u001b[1;31mNameError\u001b[0m                                 Traceback (most recent call last)",
      "Cell \u001b[1;32mIn[4], line 6\u001b[0m\n\u001b[0;32m      1\u001b[0m \u001b[38;5;28;01mimport\u001b[39;00m \u001b[38;5;21;01mnumpy\u001b[39;00m \u001b[38;5;28;01mas\u001b[39;00m \u001b[38;5;21;01mnp\u001b[39;00m\n\u001b[0;32m      3\u001b[0m \u001b[38;5;66;03m# Assuming X is the matrix of predictors and y is the outcome variable\u001b[39;00m\n\u001b[0;32m      4\u001b[0m \n\u001b[0;32m      5\u001b[0m \u001b[38;5;66;03m# OLS estimator (beta_hat)\u001b[39;00m\n\u001b[1;32m----> 6\u001b[0m beta_hat \u001b[38;5;241m=\u001b[39m np\u001b[38;5;241m.\u001b[39mlinalg\u001b[38;5;241m.\u001b[39minv(X\u001b[38;5;241m.\u001b[39mT \u001b[38;5;241m@\u001b[39m X) \u001b[38;5;241m@\u001b[39m X\u001b[38;5;241m.\u001b[39mT \u001b[38;5;241m@\u001b[39m y\n\u001b[0;32m      8\u001b[0m \u001b[38;5;66;03m# Calculate residuals\u001b[39;00m\n\u001b[0;32m      9\u001b[0m residuals \u001b[38;5;241m=\u001b[39m y \u001b[38;5;241m-\u001b[39m X \u001b[38;5;241m@\u001b[39m beta_hat\n",
      "\u001b[1;31mNameError\u001b[0m: name 'X' is not defined"
     ]
    }
   ],
   "source": [
    "import numpy as np\n",
    "\n",
    "# Assuming X is the matrix of predictors and y is the outcome variable\n",
    "\n",
    "# OLS estimator (beta_hat)\n",
    "beta_hat = np.linalg.inv(X.T @ X) @ X.T @ y\n",
    "\n",
    "# Calculate residuals\n",
    "residuals = y - X @ beta_hat\n",
    "\n",
    "# Variance of the residuals\n",
    "sigma_squared = (residuals.T @ residuals) / (X.shape[0] - X.shape[1])\n",
    "\n",
    "# Variance-covariance matrix of the estimates\n",
    "var_beta_hat = sigma_squared * np.linalg.inv(X.T @ X)\n",
    "\n",
    "# Standard errors\n",
    "standard_errors = np.sqrt(np.diag(var_beta_hat))\n",
    "\n",
    "print(\"Coefficients:\", beta_hat)\n",
    "print(\"Standard Errors:\", standard_errors)\n"
   ]
  },
  {
   "cell_type": "markdown",
   "metadata": {},
   "source": [
    "## Problem 4"
   ]
  },
  {
   "cell_type": "code",
   "execution_count": null,
   "metadata": {},
   "outputs": [],
   "source": []
  },
  {
   "cell_type": "markdown",
   "metadata": {},
   "source": [
    "## Problem 5"
   ]
  },
  {
   "cell_type": "code",
   "execution_count": 46,
   "metadata": {},
   "outputs": [],
   "source": []
  }
 ],
 "metadata": {
  "kernelspec": {
   "display_name": "base",
   "language": "python",
   "name": "python3"
  },
  "language_info": {
   "codemirror_mode": {
    "name": "ipython",
    "version": 3
   },
   "file_extension": ".py",
   "mimetype": "text/x-python",
   "name": "python",
   "nbconvert_exporter": "python",
   "pygments_lexer": "ipython3",
   "version": "3.11.4"
  }
 },
 "nbformat": 4,
 "nbformat_minor": 2
}

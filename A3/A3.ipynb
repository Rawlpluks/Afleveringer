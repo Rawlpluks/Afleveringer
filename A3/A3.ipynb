{
 "cells": [
  {
   "cell_type": "markdown",
   "metadata": {},
   "source": [
    "# Mandatory Assignment 3\n"
   ]
  },
  {
   "cell_type": "markdown",
   "metadata": {},
   "source": [
    "## US Jobs and Import Competition from China \n",
    "Af: Mathias Nikolaisen(dnt357), Oliver Mattthews(jvc975) & Clara Maj Folkmann(djz279)"
   ]
  },
  {
   "cell_type": "markdown",
   "metadata": {},
   "source": [
    "### Problem 1"
   ]
  },
  {
   "cell_type": "code",
   "execution_count": 5,
   "metadata": {},
   "outputs": [
    {
     "name": "stdout",
     "output_type": "stream",
     "text": [
      "1990-2000 (t2 = 0):\n",
      "              dsL    dIPWusch     college  ...    dIPWotch    dIPWukch    dIPWotmx\n",
      "count  662.000000  662.000000  662.000000  ...  662.000000  662.000000  662.000000\n",
      "mean    -0.957021    1.186600   42.097832  ...    1.016592    0.728172    0.014953\n",
      "std      2.240247    1.838066    8.530094  ...    1.083533    1.053982    0.112670\n",
      "min    -19.167072   -0.075351   19.943975  ...   -0.467243   -0.687543   -1.519587\n",
      "25%     -2.084500    0.248525   35.936215  ...    0.282036    0.122727    0.000772\n",
      "50%     -0.685493    0.744347   42.515060  ...    0.663031    0.544912    0.012937\n",
      "75%      0.379791    1.426852   47.567284  ...    1.398126    1.002490    0.037991\n",
      "max      5.664484   25.405270   62.898552  ...    8.616317   13.057814    0.516513\n",
      "\n",
      "[8 rows x 9 columns]\n",
      "2000-2007 (t2 = 1):\n",
      "              dsL    dIPWusch     college  ...    dIPWotch    dIPWukch    dIPWotmx\n",
      "count  662.000000  662.000000  662.000000  ...  662.000000  662.000000  662.000000\n",
      "mean    -2.338758    2.679514   48.228367  ...    2.523601    1.686539    0.082909\n",
      "std      2.595415    3.103919    8.550499  ...    2.583369    1.789099    0.163234\n",
      "min    -14.378567   -0.628958   26.319662  ...   -0.723334   -0.964006   -0.716238\n",
      "25%     -3.925830    0.887486   41.964255  ...    0.737589    0.545885    0.008783\n",
      "50%     -2.073025    1.941413   49.106943  ...    2.016384    1.362290    0.040040\n",
      "75%     -0.595540    3.456478   54.271556  ...    3.502216    2.376703    0.090396\n",
      "max      4.642012   43.084606   69.337563  ...   28.655161   22.502012    1.447995\n",
      "\n",
      "[8 rows x 9 columns]\n"
     ]
    }
   ],
   "source": [
    "import pandas as pd\n",
    "\n",
    "\n",
    "data_path = 'A3_X2017S_MetricsI.dta'\n",
    "df = pd.read_stata(data_path)\n",
    "\n",
    "# Beregn beskrivende statistik for hver periode\n",
    "summary_stats_period_0 = df[df['t2'] == 0][['dsL', 'dIPWusch', 'college', 'routine', 'dIPWusmx', 'foreignborn', 'dIPWotch', 'dIPWukch', 'dIPWotmx']].describe()\n",
    "summary_stats_period_1 = df[df['t2'] == 1][['dsL', 'dIPWusch', 'college', 'routine', 'dIPWusmx', 'foreignborn', 'dIPWotch', 'dIPWukch', 'dIPWotmx']].describe()\n",
    "\n",
    "# Udskriv summariske statistikker for begge perioder\n",
    "print(\"1990-2000 (t2 = 0):\")\n",
    "print(summary_stats_period_0)\n",
    "\n",
    "print(\"2000-2007 (t2 = 1):\")\n",
    "print(summary_stats_period_1)"
   ]
  },
  {
   "cell_type": "code",
   "execution_count": 8,
   "metadata": {},
   "outputs": [
    {
     "name": "stdout",
     "output_type": "stream",
     "text": [
      "\\begin{center}\n",
      "\\begin{tabular}{lclc}\n",
      "\\toprule\n",
      "\\textbf{Dep. Variable:}    &       dsL        & \\textbf{  R-squared:         } &     0.378   \\\\\n",
      "\\textbf{Model:}            &       OLS        & \\textbf{  Adj. R-squared:    } &     0.375   \\\\\n",
      "\\textbf{Method:}           &  Least Squares   & \\textbf{  F-statistic:       } &     159.9   \\\\\n",
      "\\textbf{Date:}             & Wed, 23 Oct 2024 & \\textbf{  Prob (F-statistic):} & 6.08e-133   \\\\\n",
      "\\textbf{Time:}             &     09:57:42     & \\textbf{  Log-Likelihood:    } &   -2788.1   \\\\\n",
      "\\textbf{No. Observations:} &        1324      & \\textbf{  AIC:               } &     5588.   \\\\\n",
      "\\textbf{Df Residuals:}     &        1318      & \\textbf{  BIC:               } &     5619.   \\\\\n",
      "\\textbf{Df Model:}         &           5      & \\textbf{                     } &             \\\\\n",
      "\\textbf{Covariance Type:}  &    nonrobust     & \\textbf{                     } &             \\\\\n",
      "\\bottomrule\n",
      "\\end{tabular}\n",
      "\\begin{tabular}{lcccccc}\n",
      "                     & \\textbf{coef} & \\textbf{std err} & \\textbf{t} & \\textbf{P$> |$t$|$} & \\textbf{[0.025} & \\textbf{0.975]}  \\\\\n",
      "\\midrule\n",
      "\\textbf{const}       &       5.0983  &        0.544     &     9.371  &         0.000        &        4.031    &        6.166     \\\\\n",
      "\\textbf{t2}          &      -1.5092  &        0.125     &   -12.054  &         0.000        &       -1.755    &       -1.264     \\\\\n",
      "\\textbf{dIPWusch}    &      -0.1539  &        0.023     &    -6.660  &         0.000        &       -0.199    &       -0.109     \\\\\n",
      "\\textbf{college}     &       0.0836  &        0.007     &    12.479  &         0.000        &        0.070    &        0.097     \\\\\n",
      "\\textbf{foreignborn} &       0.0046  &        0.010     &     0.477  &         0.634        &       -0.014    &        0.024     \\\\\n",
      "\\textbf{routine}     &      -0.3326  &        0.018     &   -18.168  &         0.000        &       -0.369    &       -0.297     \\\\\n",
      "\\bottomrule\n",
      "\\end{tabular}\n",
      "\\begin{tabular}{lclc}\n",
      "\\textbf{Omnibus:}       & 127.369 & \\textbf{  Durbin-Watson:     } &     1.491  \\\\\n",
      "\\textbf{Prob(Omnibus):} &   0.000 & \\textbf{  Jarque-Bera (JB):  } &   529.538  \\\\\n",
      "\\textbf{Skew:}          &  -0.370 & \\textbf{  Prob(JB):          } & 1.03e-115  \\\\\n",
      "\\textbf{Kurtosis:}      &   6.009 & \\textbf{  Cond. No.          } &      540.  \\\\\n",
      "\\bottomrule\n",
      "\\end{tabular}\n",
      "%\\caption{OLS Regression Results}\n",
      "\\end{center}\n",
      "\n",
      "Notes: \\newline\n",
      " [1] Standard Errors assume that the covariance matrix of the errors is correctly specified.\n"
     ]
    }
   ],
   "source": [
    "import statsmodels.api as sm\n",
    "\n",
    "y = df['dsL']\n",
    "X = df[['t2', 'dIPWusch', 'college', 'foreignborn', 'routine']]\n",
    "X = sm.add_constant(X)\n",
    "model = sm.OLS(y, X).fit()\n",
    "latex = model.summary()\n",
    "print(latex.as_latex())"
   ]
  },
  {
   "cell_type": "markdown",
   "metadata": {},
   "source": [
    "### Problem 2"
   ]
  },
  {
   "cell_type": "code",
   "execution_count": 14,
   "metadata": {},
   "outputs": [
    {
     "name": "stdout",
     "output_type": "stream",
     "text": [
      "                          IV-2SLS Estimation Summary                          \n",
      "==============================================================================\n",
      "Dep. Variable:                    dsL   R-squared:                      0.4058\n",
      "Estimator:                    IV-2SLS   Adj. R-squared:                 0.4030\n",
      "No. Observations:                1324   F-statistic:                    618.48\n",
      "Date:                Wed, Oct 23 2024   P-value (F-stat)                0.0000\n",
      "Time:                        09:54:07   Distribution:                  chi2(6)\n",
      "Cov. Estimator:                robust                                         \n",
      "                                                                              \n",
      "                              Parameter Estimates                              \n",
      "===============================================================================\n",
      "             Parameter  Std. Err.     T-stat    P-value    Lower CI    Upper CI\n",
      "-------------------------------------------------------------------------------\n",
      "const           4.9502     0.4773     10.371     0.0000      4.0147      5.8857\n",
      "t2             -1.1932     0.1438    -8.2955     0.0000     -1.4751     -0.9113\n",
      "dIPWusch       -0.0128     0.0505    -0.2536     0.7998     -0.1119      0.0862\n",
      "college         0.0715     0.0079     9.0116     0.0000      0.0560      0.0871\n",
      "foreignborn    -0.0001     0.0065    -0.0211     0.9832     -0.0129      0.0127\n",
      "routine        -0.3038     0.0231    -13.157     0.0000     -0.3491     -0.2586\n",
      "dIPWotch       -0.3034     0.0807    -3.7578     0.0002     -0.4617     -0.1452\n",
      "===============================================================================\n",
      "\n",
      "Endogenous: dIPWotch\n",
      "Instruments: dIPWotch\n",
      "Robust Covariance (Heteroskedastic)\n",
      "Debiased: False\n"
     ]
    }
   ],
   "source": [
    "from linearmodels.iv import IV2SLS\n",
    "\n",
    "y = df['dsL']\n",
    "\n",
    "X = df[['t2', 'dIPWusch', 'college', 'foreignborn', 'routine']]\n",
    "Z = df['dIPWotch']\n",
    "endog = df['dIPWotch']\n",
    "\n",
    "X = sm.add_constant(X)\n",
    "\n",
    "iv_model = IV2SLS(y, X, endog=endog, instruments=Z).fit()\n",
    "\n",
    "print(iv_model.summary)\n"
   ]
  },
  {
   "cell_type": "markdown",
   "metadata": {},
   "source": [
    "### Problem 3"
   ]
  },
  {
   "cell_type": "code",
   "execution_count": 12,
   "metadata": {},
   "outputs": [
    {
     "data": {
      "text/html": [
       "<table class=\"simpletable\">\n",
       "<caption>OLS Regression Results</caption>\n",
       "<tr>\n",
       "  <th>Dep. Variable:</th>           <td>dsL</td>       <th>  R-squared:         </th> <td>   0.406</td> \n",
       "</tr>\n",
       "<tr>\n",
       "  <th>Model:</th>                   <td>OLS</td>       <th>  Adj. R-squared:    </th> <td>   0.403</td> \n",
       "</tr>\n",
       "<tr>\n",
       "  <th>Method:</th>             <td>Least Squares</td>  <th>  F-statistic:       </th> <td>   150.2</td> \n",
       "</tr>\n",
       "<tr>\n",
       "  <th>Date:</th>             <td>Wed, 23 Oct 2024</td> <th>  Prob (F-statistic):</th> <td>3.15e-145</td>\n",
       "</tr>\n",
       "<tr>\n",
       "  <th>Time:</th>                 <td>12:19:55</td>     <th>  Log-Likelihood:    </th> <td> -2756.9</td> \n",
       "</tr>\n",
       "<tr>\n",
       "  <th>No. Observations:</th>      <td>  1324</td>      <th>  AIC:               </th> <td>   5528.</td> \n",
       "</tr>\n",
       "<tr>\n",
       "  <th>Df Residuals:</th>          <td>  1317</td>      <th>  BIC:               </th> <td>   5564.</td> \n",
       "</tr>\n",
       "<tr>\n",
       "  <th>Df Model:</th>              <td>     6</td>      <th>                     </th>     <td> </td>    \n",
       "</tr>\n",
       "<tr>\n",
       "  <th>Covariance Type:</th>      <td>nonrobust</td>    <th>                     </th>     <td> </td>    \n",
       "</tr>\n",
       "</table>\n",
       "<table class=\"simpletable\">\n",
       "<tr>\n",
       "           <td></td>             <th>coef</th>     <th>std err</th>      <th>t</th>      <th>P>|t|</th>  <th>[0.025</th>    <th>0.975]</th>  \n",
       "</tr>\n",
       "<tr>\n",
       "  <th>const</th>              <td>    4.4997</td> <td>    0.538</td> <td>    8.369</td> <td> 0.000</td> <td>    3.445</td> <td>    5.554</td>\n",
       "</tr>\n",
       "<tr>\n",
       "  <th>fitted_dIPWusch</th>    <td>   -0.2877</td> <td>    0.092</td> <td>   -3.134</td> <td> 0.002</td> <td>   -0.468</td> <td>   -0.108</td>\n",
       "</tr>\n",
       "<tr>\n",
       "  <th>fitted_t2_dIPWusch</th> <td>   -0.1033</td> <td>    0.094</td> <td>   -1.094</td> <td> 0.274</td> <td>   -0.289</td> <td>    0.082</td>\n",
       "</tr>\n",
       "<tr>\n",
       "  <th>t2</th>                 <td>   -0.9525</td> <td>    0.179</td> <td>   -5.335</td> <td> 0.000</td> <td>   -1.303</td> <td>   -0.602</td>\n",
       "</tr>\n",
       "<tr>\n",
       "  <th>college</th>            <td>    0.0704</td> <td>    0.007</td> <td>   10.075</td> <td> 0.000</td> <td>    0.057</td> <td>    0.084</td>\n",
       "</tr>\n",
       "<tr>\n",
       "  <th>foreignborn</th>        <td>   -0.0062</td> <td>    0.010</td> <td>   -0.648</td> <td> 0.517</td> <td>   -0.025</td> <td>    0.013</td>\n",
       "</tr>\n",
       "<tr>\n",
       "  <th>routine</th>            <td>   -0.2847</td> <td>    0.020</td> <td>  -14.496</td> <td> 0.000</td> <td>   -0.323</td> <td>   -0.246</td>\n",
       "</tr>\n",
       "</table>\n",
       "<table class=\"simpletable\">\n",
       "<tr>\n",
       "  <th>Omnibus:</th>       <td>139.333</td> <th>  Durbin-Watson:     </th> <td>   1.485</td> \n",
       "</tr>\n",
       "<tr>\n",
       "  <th>Prob(Omnibus):</th> <td> 0.000</td>  <th>  Jarque-Bera (JB):  </th> <td> 737.655</td> \n",
       "</tr>\n",
       "<tr>\n",
       "  <th>Skew:</th>          <td>-0.329</td>  <th>  Prob(JB):          </th> <td>6.61e-161</td>\n",
       "</tr>\n",
       "<tr>\n",
       "  <th>Kurtosis:</th>      <td> 6.597</td>  <th>  Cond. No.          </th> <td>    547.</td> \n",
       "</tr>\n",
       "</table><br/><br/>Notes:<br/>[1] Standard Errors assume that the covariance matrix of the errors is correctly specified."
      ],
      "text/latex": [
       "\\begin{center}\n",
       "\\begin{tabular}{lclc}\n",
       "\\toprule\n",
       "\\textbf{Dep. Variable:}       &       dsL        & \\textbf{  R-squared:         } &     0.406   \\\\\n",
       "\\textbf{Model:}               &       OLS        & \\textbf{  Adj. R-squared:    } &     0.403   \\\\\n",
       "\\textbf{Method:}              &  Least Squares   & \\textbf{  F-statistic:       } &     150.2   \\\\\n",
       "\\textbf{Date:}                & Wed, 23 Oct 2024 & \\textbf{  Prob (F-statistic):} & 3.15e-145   \\\\\n",
       "\\textbf{Time:}                &     12:19:55     & \\textbf{  Log-Likelihood:    } &   -2756.9   \\\\\n",
       "\\textbf{No. Observations:}    &        1324      & \\textbf{  AIC:               } &     5528.   \\\\\n",
       "\\textbf{Df Residuals:}        &        1317      & \\textbf{  BIC:               } &     5564.   \\\\\n",
       "\\textbf{Df Model:}            &           6      & \\textbf{                     } &             \\\\\n",
       "\\textbf{Covariance Type:}     &    nonrobust     & \\textbf{                     } &             \\\\\n",
       "\\bottomrule\n",
       "\\end{tabular}\n",
       "\\begin{tabular}{lcccccc}\n",
       "                              & \\textbf{coef} & \\textbf{std err} & \\textbf{t} & \\textbf{P$> |$t$|$} & \\textbf{[0.025} & \\textbf{0.975]}  \\\\\n",
       "\\midrule\n",
       "\\textbf{const}                &       4.4997  &        0.538     &     8.369  &         0.000        &        3.445    &        5.554     \\\\\n",
       "\\textbf{fitted\\_dIPWusch}     &      -0.2877  &        0.092     &    -3.134  &         0.002        &       -0.468    &       -0.108     \\\\\n",
       "\\textbf{fitted\\_t2\\_dIPWusch} &      -0.1033  &        0.094     &    -1.094  &         0.274        &       -0.289    &        0.082     \\\\\n",
       "\\textbf{t2}                   &      -0.9525  &        0.179     &    -5.335  &         0.000        &       -1.303    &       -0.602     \\\\\n",
       "\\textbf{college}              &       0.0704  &        0.007     &    10.075  &         0.000        &        0.057    &        0.084     \\\\\n",
       "\\textbf{foreignborn}          &      -0.0062  &        0.010     &    -0.648  &         0.517        &       -0.025    &        0.013     \\\\\n",
       "\\textbf{routine}              &      -0.2847  &        0.020     &   -14.496  &         0.000        &       -0.323    &       -0.246     \\\\\n",
       "\\bottomrule\n",
       "\\end{tabular}\n",
       "\\begin{tabular}{lclc}\n",
       "\\textbf{Omnibus:}       & 139.333 & \\textbf{  Durbin-Watson:     } &     1.485  \\\\\n",
       "\\textbf{Prob(Omnibus):} &   0.000 & \\textbf{  Jarque-Bera (JB):  } &   737.655  \\\\\n",
       "\\textbf{Skew:}          &  -0.329 & \\textbf{  Prob(JB):          } & 6.61e-161  \\\\\n",
       "\\textbf{Kurtosis:}      &   6.597 & \\textbf{  Cond. No.          } &      547.  \\\\\n",
       "\\bottomrule\n",
       "\\end{tabular}\n",
       "%\\caption{OLS Regression Results}\n",
       "\\end{center}\n",
       "\n",
       "Notes: \\newline\n",
       " [1] Standard Errors assume that the covariance matrix of the errors is correctly specified."
      ],
      "text/plain": [
       "<class 'statsmodels.iolib.summary.Summary'>\n",
       "\"\"\"\n",
       "                            OLS Regression Results                            \n",
       "==============================================================================\n",
       "Dep. Variable:                    dsL   R-squared:                       0.406\n",
       "Model:                            OLS   Adj. R-squared:                  0.403\n",
       "Method:                 Least Squares   F-statistic:                     150.2\n",
       "Date:                Wed, 23 Oct 2024   Prob (F-statistic):          3.15e-145\n",
       "Time:                        12:19:55   Log-Likelihood:                -2756.9\n",
       "No. Observations:                1324   AIC:                             5528.\n",
       "Df Residuals:                    1317   BIC:                             5564.\n",
       "Df Model:                           6                                         \n",
       "Covariance Type:            nonrobust                                         \n",
       "======================================================================================\n",
       "                         coef    std err          t      P>|t|      [0.025      0.975]\n",
       "--------------------------------------------------------------------------------------\n",
       "const                  4.4997      0.538      8.369      0.000       3.445       5.554\n",
       "fitted_dIPWusch       -0.2877      0.092     -3.134      0.002      -0.468      -0.108\n",
       "fitted_t2_dIPWusch    -0.1033      0.094     -1.094      0.274      -0.289       0.082\n",
       "t2                    -0.9525      0.179     -5.335      0.000      -1.303      -0.602\n",
       "college                0.0704      0.007     10.075      0.000       0.057       0.084\n",
       "foreignborn           -0.0062      0.010     -0.648      0.517      -0.025       0.013\n",
       "routine               -0.2847      0.020    -14.496      0.000      -0.323      -0.246\n",
       "==============================================================================\n",
       "Omnibus:                      139.333   Durbin-Watson:                   1.485\n",
       "Prob(Omnibus):                  0.000   Jarque-Bera (JB):              737.655\n",
       "Skew:                          -0.329   Prob(JB):                    6.61e-161\n",
       "Kurtosis:                       6.597   Cond. No.                         547.\n",
       "==============================================================================\n",
       "\n",
       "Notes:\n",
       "[1] Standard Errors assume that the covariance matrix of the errors is correctly specified.\n",
       "\"\"\""
      ]
     },
     "execution_count": 12,
     "metadata": {},
     "output_type": "execute_result"
    }
   ],
   "source": []
  },
  {
   "cell_type": "code",
   "execution_count": 17,
   "metadata": {},
   "outputs": [
    {
     "ename": "ValueError",
     "evalue": "instruments [exog instruments]  do not have full column rank",
     "output_type": "error",
     "traceback": [
      "\u001b[1;31m---------------------------------------------------------------------------\u001b[0m",
      "\u001b[1;31mValueError\u001b[0m                                Traceback (most recent call last)",
      "Cell \u001b[1;32mIn[17], line 10\u001b[0m\n\u001b[0;32m      7\u001b[0m instruments \u001b[38;5;241m=\u001b[39m df[[\u001b[38;5;124m'\u001b[39m\u001b[38;5;124mdIPWotch\u001b[39m\u001b[38;5;124m'\u001b[39m, \u001b[38;5;124m'\u001b[39m\u001b[38;5;124mt2\u001b[39m\u001b[38;5;124m'\u001b[39m]]  \u001b[38;5;66;03m# Instruments (without adding a constant)\u001b[39;00m\n\u001b[0;32m      9\u001b[0m \u001b[38;5;66;03m# Perform the 2SLS estimation\u001b[39;00m\n\u001b[1;32m---> 10\u001b[0m model_2sls \u001b[38;5;241m=\u001b[39m IV2SLS(dependent_var, exog_vars, endog_vars, instruments)\u001b[38;5;241m.\u001b[39mfit()\n\u001b[0;32m     12\u001b[0m \u001b[38;5;66;03m# Extract the residuals from the second stage\u001b[39;00m\n\u001b[0;32m     13\u001b[0m residuals \u001b[38;5;241m=\u001b[39m model_2sls\u001b[38;5;241m.\u001b[39mresids\n",
      "File \u001b[1;32mc:\\Users\\clara\\miniconda3\\Lib\\site-packages\\linearmodels\\iv\\model.py:896\u001b[0m, in \u001b[0;36mIV2SLS.__init__\u001b[1;34m(self, dependent, exog, endog, instruments, weights)\u001b[0m\n\u001b[0;32m    886\u001b[0m \u001b[38;5;28;01mdef\u001b[39;00m \u001b[38;5;21m__init__\u001b[39m(\n\u001b[0;32m    887\u001b[0m     \u001b[38;5;28mself\u001b[39m,\n\u001b[0;32m    888\u001b[0m     dependent: IVDataLike,\n\u001b[1;32m   (...)\u001b[0m\n\u001b[0;32m    893\u001b[0m     weights: IVDataLike \u001b[38;5;241m|\u001b[39m \u001b[38;5;28;01mNone\u001b[39;00m \u001b[38;5;241m=\u001b[39m \u001b[38;5;28;01mNone\u001b[39;00m,\n\u001b[0;32m    894\u001b[0m ):\n\u001b[0;32m    895\u001b[0m     \u001b[38;5;28mself\u001b[39m\u001b[38;5;241m.\u001b[39m_method \u001b[38;5;241m=\u001b[39m \u001b[38;5;124m\"\u001b[39m\u001b[38;5;124mIV-2SLS\u001b[39m\u001b[38;5;124m\"\u001b[39m\n\u001b[1;32m--> 896\u001b[0m     \u001b[38;5;28msuper\u001b[39m()\u001b[38;5;241m.\u001b[39m\u001b[38;5;21m__init__\u001b[39m(\n\u001b[0;32m    897\u001b[0m         dependent, exog, endog, instruments, weights\u001b[38;5;241m=\u001b[39mweights, fuller\u001b[38;5;241m=\u001b[39m\u001b[38;5;241m0\u001b[39m, kappa\u001b[38;5;241m=\u001b[39m\u001b[38;5;241m1\u001b[39m\n\u001b[0;32m    898\u001b[0m     )\n",
      "File \u001b[1;32mc:\\Users\\clara\\miniconda3\\Lib\\site-packages\\linearmodels\\iv\\model.py:557\u001b[0m, in \u001b[0;36m_IVLSModelBase.__init__\u001b[1;34m(self, dependent, exog, endog, instruments, weights, fuller, kappa)\u001b[0m\n\u001b[0;32m    546\u001b[0m \u001b[38;5;28;01mdef\u001b[39;00m \u001b[38;5;21m__init__\u001b[39m(\n\u001b[0;32m    547\u001b[0m     \u001b[38;5;28mself\u001b[39m,\n\u001b[0;32m    548\u001b[0m     dependent: IVDataLike,\n\u001b[1;32m   (...)\u001b[0m\n\u001b[0;32m    555\u001b[0m     kappa: linearmodels\u001b[38;5;241m.\u001b[39mtyping\u001b[38;5;241m.\u001b[39mOptionalNumeric \u001b[38;5;241m=\u001b[39m \u001b[38;5;28;01mNone\u001b[39;00m,\n\u001b[0;32m    556\u001b[0m ):\n\u001b[1;32m--> 557\u001b[0m     \u001b[38;5;28msuper\u001b[39m()\u001b[38;5;241m.\u001b[39m\u001b[38;5;21m__init__\u001b[39m(\n\u001b[0;32m    558\u001b[0m         dependent,\n\u001b[0;32m    559\u001b[0m         exog,\n\u001b[0;32m    560\u001b[0m         endog,\n\u001b[0;32m    561\u001b[0m         instruments,\n\u001b[0;32m    562\u001b[0m         weights\u001b[38;5;241m=\u001b[39mweights,\n\u001b[0;32m    563\u001b[0m         fuller\u001b[38;5;241m=\u001b[39mfuller,\n\u001b[0;32m    564\u001b[0m         kappa\u001b[38;5;241m=\u001b[39mkappa,\n\u001b[0;32m    565\u001b[0m     )\n",
      "File \u001b[1;32mc:\\Users\\clara\\miniconda3\\Lib\\site-packages\\linearmodels\\iv\\model.py:207\u001b[0m, in \u001b[0;36m_IVModelBase.__init__\u001b[1;34m(self, dependent, exog, endog, instruments, weights, fuller, kappa)\u001b[0m\n\u001b[0;32m    204\u001b[0m \u001b[38;5;28mself\u001b[39m\u001b[38;5;241m.\u001b[39m_instr_columns \u001b[38;5;241m=\u001b[39m \u001b[38;5;28mself\u001b[39m\u001b[38;5;241m.\u001b[39mexog\u001b[38;5;241m.\u001b[39mcols \u001b[38;5;241m+\u001b[39m \u001b[38;5;28mself\u001b[39m\u001b[38;5;241m.\u001b[39minstruments\u001b[38;5;241m.\u001b[39mcols\n\u001b[0;32m    205\u001b[0m \u001b[38;5;28mself\u001b[39m\u001b[38;5;241m.\u001b[39m_index \u001b[38;5;241m=\u001b[39m \u001b[38;5;28mself\u001b[39m\u001b[38;5;241m.\u001b[39mdependent\u001b[38;5;241m.\u001b[39mrows\n\u001b[1;32m--> 207\u001b[0m \u001b[38;5;28mself\u001b[39m\u001b[38;5;241m.\u001b[39m_validate_inputs()\n\u001b[0;32m    208\u001b[0m \u001b[38;5;28;01mif\u001b[39;00m \u001b[38;5;129;01mnot\u001b[39;00m \u001b[38;5;28mhasattr\u001b[39m(\u001b[38;5;28mself\u001b[39m, \u001b[38;5;124m\"\u001b[39m\u001b[38;5;124m_method\u001b[39m\u001b[38;5;124m\"\u001b[39m):\n\u001b[0;32m    209\u001b[0m     \u001b[38;5;28mself\u001b[39m\u001b[38;5;241m.\u001b[39m_method \u001b[38;5;241m=\u001b[39m \u001b[38;5;124m\"\u001b[39m\u001b[38;5;124mIV-LIML\u001b[39m\u001b[38;5;124m\"\u001b[39m\n",
      "File \u001b[1;32mc:\\Users\\clara\\miniconda3\\Lib\\site-packages\\linearmodels\\iv\\model.py:343\u001b[0m, in \u001b[0;36m_IVModelBase._validate_inputs\u001b[1;34m(self)\u001b[0m\n\u001b[0;32m    341\u001b[0m     \u001b[38;5;28;01mraise\u001b[39;00m \u001b[38;5;167;01mValueError\u001b[39;00m(\u001b[38;5;124m\"\u001b[39m\u001b[38;5;124mregressors [exog endog] do not have full \u001b[39m\u001b[38;5;124m\"\u001b[39m \u001b[38;5;124m\"\u001b[39m\u001b[38;5;124mcolumn rank\u001b[39m\u001b[38;5;124m\"\u001b[39m)\n\u001b[0;32m    342\u001b[0m \u001b[38;5;28;01mif\u001b[39;00m matrix_rank(z) \u001b[38;5;241m<\u001b[39m z\u001b[38;5;241m.\u001b[39mshape[\u001b[38;5;241m1\u001b[39m]:\n\u001b[1;32m--> 343\u001b[0m     \u001b[38;5;28;01mraise\u001b[39;00m \u001b[38;5;167;01mValueError\u001b[39;00m(\n\u001b[0;32m    344\u001b[0m         \u001b[38;5;124m\"\u001b[39m\u001b[38;5;124minstruments [exog instruments]  do not have \u001b[39m\u001b[38;5;124m\"\u001b[39m \u001b[38;5;124m\"\u001b[39m\u001b[38;5;124mfull column rank\u001b[39m\u001b[38;5;124m\"\u001b[39m\n\u001b[0;32m    345\u001b[0m     )\n\u001b[0;32m    346\u001b[0m \u001b[38;5;28mself\u001b[39m\u001b[38;5;241m.\u001b[39m_has_constant, \u001b[38;5;28mself\u001b[39m\u001b[38;5;241m.\u001b[39m_const_loc \u001b[38;5;241m=\u001b[39m has_constant(x)\n",
      "\u001b[1;31mValueError\u001b[0m: instruments [exog instruments]  do not have full column rank"
     ]
    }
   ],
   "source": []
  },
  {
   "cell_type": "markdown",
   "metadata": {},
   "source": [
    "## Problem 4"
   ]
  },
  {
   "cell_type": "code",
   "execution_count": null,
   "metadata": {},
   "outputs": [],
   "source": []
  },
  {
   "cell_type": "markdown",
   "metadata": {},
   "source": [
    "## Problem 5"
   ]
  },
  {
   "cell_type": "code",
   "execution_count": 46,
   "metadata": {},
   "outputs": [],
   "source": []
  }
 ],
 "metadata": {
  "kernelspec": {
   "display_name": "base",
   "language": "python",
   "name": "python3"
  },
  "language_info": {
   "codemirror_mode": {
    "name": "ipython",
    "version": 3
   },
   "file_extension": ".py",
   "mimetype": "text/x-python",
   "name": "python",
   "nbconvert_exporter": "python",
   "pygments_lexer": "ipython3",
   "version": "3.11.7"
  }
 },
 "nbformat": 4,
 "nbformat_minor": 2
}

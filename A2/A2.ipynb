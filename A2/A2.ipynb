{
 "cells": [
  {
   "cell_type": "markdown",
   "metadata": {},
   "source": [
    "# Mandatory Assignment 2\n"
   ]
  },
  {
   "cell_type": "markdown",
   "metadata": {},
   "source": [
    "## Integration af Flygtninge på Arbejdsmarkedet \n",
    "Af: Mathias Nikolaisen(dnt357), Oliver Mattthews(jvc975) & Clara Maj Folkmann(djz279)"
   ]
  },
  {
   "cell_type": "markdown",
   "metadata": {},
   "source": [
    "### Problem 1"
   ]
  },
  {
   "cell_type": "code",
   "execution_count": 9,
   "metadata": {},
   "outputs": [
    {
     "name": "stdout",
     "output_type": "stream",
     "text": [
      "(4800, 7)\n",
      "Index(['id', 'mand', 'ankomstaar', 'alder', 'aarslon', 'aar', 'const'], dtype='object')\n"
     ]
    }
   ],
   "source": [
    "#1.a\n",
    "import pandas as pd\n",
    "\n",
    "df = pd.read_stata('Integration.dta')\n",
    "df['const'] = 1\n",
    "print(df.shape)\n",
    "print(df.columns)"
   ]
  },
  {
   "cell_type": "code",
   "execution_count": 10,
   "metadata": {},
   "outputs": [
    {
     "name": "stdout",
     "output_type": "stream",
     "text": [
      "   mand     aar  mean_aarslon  mean_alder  mean_ankomstaar\n",
      "0   0.0  2017.0  31124.437500   28.628283      2014.981812\n",
      "1   0.0  2018.0  40045.046875   29.628283      2014.981812\n",
      "2   1.0  2017.0  61324.046875   28.670341      2015.017822\n",
      "3   1.0  2018.0  90906.500000   29.670341      2015.017822\n"
     ]
    }
   ],
   "source": [
    "df_dummies = pd.get_dummies(df, columns=['ankomstaar'], prefix='dummy_ankomstaar')\n",
    "summary_table1 = df.groupby(['mand', 'aar']).agg(\n",
    "    mean_aarslon=('aarslon', 'mean'),\n",
    "    mean_alder=('alder', 'mean'),\n",
    "    mean_ankomstaar=('ankomstaar', 'mean') \n",
    ").reset_index()\n",
    "\n",
    "print(summary_table1)"
   ]
  },
  {
   "cell_type": "code",
   "execution_count": 8,
   "metadata": {},
   "outputs": [
    {
     "name": "stdout",
     "output_type": "stream",
     "text": [
      "   mand     aar  median_aarslon   std_aarslon   min_aarslon    max_aarslon  \\\n",
      "0   0.0  2017.0    28953.601562  12640.760314   9058.370117  127671.335938   \n",
      "1   0.0  2018.0    34427.351562  26195.921317   4526.069824  277230.656250   \n",
      "2   1.0  2017.0    55599.742188  27148.603614  10105.024414  240001.187500   \n",
      "3   1.0  2018.0    77553.937500  56593.295207   7315.529297  602016.812500   \n",
      "\n",
      "   std_alder  min_alder  max_alder  \n",
      "0   6.963701       18.0       60.0  \n",
      "1   6.963701       19.0       61.0  \n",
      "2   7.066349       17.0       65.0  \n",
      "3   7.066349       18.0       66.0  \n"
     ]
    }
   ],
   "source": [
    "summary_table2 = df.groupby(['mand', 'aar']).agg(\n",
    "    median_aarslon=('aarslon', 'median'),\n",
    "    std_aarslon=('aarslon', 'std'),\n",
    "    min_aarslon=('aarslon', 'min'),\n",
    "    max_aarslon=('aarslon', 'max'),\n",
    "    std_alder=('alder', 'std'),\n",
    "    min_alder=('alder', 'min'),\n",
    "    max_alder=('alder', 'max'),\n",
    ").reset_index()\n",
    "\n",
    "print(summary_table2)"
   ]
  },
  {
   "cell_type": "code",
   "execution_count": 15,
   "metadata": {},
   "outputs": [
    {
     "name": "stdout",
     "output_type": "stream",
     "text": [
      "                            OLS Regression Results                            \n",
      "==============================================================================\n",
      "Dep. Variable:                aarslon   R-squared:                       0.032\n",
      "Model:                            OLS   Adj. R-squared:                  0.031\n",
      "Method:                 Least Squares   F-statistic:                     39.84\n",
      "Date:                Sun, 06 Oct 2024   Prob (F-statistic):           9.53e-18\n",
      "Time:                        10:30:45   Log-Likelihood:                -1639.8\n",
      "No. Observations:                2400   AIC:                             3286.\n",
      "Df Residuals:                    2397   BIC:                             3303.\n",
      "Df Model:                           2                                         \n",
      "Covariance Type:            nonrobust                                         \n",
      "==============================================================================\n",
      "                 coef    std err          t      P>|t|      [0.025      0.975]\n",
      "------------------------------------------------------------------------------\n",
      "const         10.4231      0.047    219.799      0.000      10.330      10.516\n",
      "alder          0.0071      0.001      5.125      0.000       0.004       0.010\n",
      "YSM            0.0870      0.012      7.331      0.000       0.064       0.110\n",
      "==============================================================================\n",
      "Omnibus:                       39.403   Durbin-Watson:                   1.993\n",
      "Prob(Omnibus):                  0.000   Jarque-Bera (JB):               41.266\n",
      "Skew:                          -0.302   Prob(JB):                     1.09e-09\n",
      "Kurtosis:                       3.219   Cond. No.                         145.\n",
      "==============================================================================\n",
      "\n",
      "Notes:\n",
      "[1] Standard Errors assume that the covariance matrix of the errors is correctly specified.\n"
     ]
    }
   ],
   "source": [
    "#1.b\n",
    "import statsmodels.api as sm\n",
    "import numpy as np\n",
    "\n",
    "df['YSM'] = df['aar'] - df['ankomstaar']\n",
    "df_2017 = df[df['aar'] == 2017].copy()\n",
    "y = np.log(df_2017['aarslon'])\n",
    "X = df_2017[['alder', 'YSM']]\n",
    "X = sm.add_constant(X) \n",
    "\n",
    "model = sm.OLS(y, X).fit()\n",
    "print(model.summary())\n"
   ]
  },
  {
   "cell_type": "code",
   "execution_count": 17,
   "metadata": {},
   "outputs": [
    {
     "name": "stdout",
     "output_type": "stream",
     "text": [
      "Combined estimate (beta_1 + beta_2): 0.09416504673465748\n",
      "Standard error of the combined estimate: 0.011960398278925283\n"
     ]
    }
   ],
   "source": [
    "#1.c\n",
    "beta_1 = model.params['alder']\n",
    "beta_2 = model.params['YSM']\n",
    "\n",
    "combined_estimate = beta_1 + beta_2\n",
    "\n",
    "cov_matrix = model.cov_params()\n",
    "\n",
    "se_combined = np.sqrt(\n",
    "    cov_matrix.loc['alder', 'alder'] + \n",
    "    cov_matrix.loc['YSM', 'YSM'] + \n",
    "    2 * cov_matrix.loc['alder', 'YSM']\n",
    ")\n",
    "\n",
    "print(f\"Combined estimate (beta_1 + beta_2): {combined_estimate}\")\n",
    "print(f\"Standard error of the combined estimate: {se_combined}\")\n"
   ]
  },
  {
   "cell_type": "markdown",
   "metadata": {},
   "source": [
    "### Problem 2"
   ]
  },
  {
   "cell_type": "code",
   "execution_count": 18,
   "metadata": {},
   "outputs": [
    {
     "name": "stdout",
     "output_type": "stream",
     "text": [
      "                            OLS Regression Results                            \n",
      "==============================================================================\n",
      "Dep. Variable:                aarslon   R-squared:                       0.073\n",
      "Model:                            OLS   Adj. R-squared:                  0.072\n",
      "Method:                 Least Squares   F-statistic:                     125.4\n",
      "Date:                Sun, 06 Oct 2024   Prob (F-statistic):           3.61e-78\n",
      "Time:                        10:50:19   Log-Likelihood:                -4102.0\n",
      "No. Observations:                4800   AIC:                             8212.\n",
      "Df Residuals:                    4796   BIC:                             8238.\n",
      "Df Model:                           3                                         \n",
      "Covariance Type:            nonrobust                                         \n",
      "==============================================================================\n",
      "                 coef    std err          t      P>|t|      [0.025      0.975]\n",
      "------------------------------------------------------------------------------\n",
      "const       -457.8689     38.818    -11.795      0.000    -533.970    -381.768\n",
      "alder          0.0056      0.001      4.762      0.000       0.003       0.008\n",
      "YSM            0.2889      0.016     17.543      0.000       0.257       0.321\n",
      "ankomstaar     0.2322      0.019     12.065      0.000       0.194       0.270\n",
      "==============================================================================\n",
      "Omnibus:                      172.131   Durbin-Watson:                   1.426\n",
      "Prob(Omnibus):                  0.000   Jarque-Bera (JB):              250.575\n",
      "Skew:                          -0.354   Prob(JB):                     3.88e-55\n",
      "Kurtosis:                       3.866   Cond. No.                     9.53e+06\n",
      "==============================================================================\n",
      "\n",
      "Notes:\n",
      "[1] Standard Errors assume that the covariance matrix of the errors is correctly specified.\n",
      "[2] The condition number is large, 9.53e+06. This might indicate that there are\n",
      "strong multicollinearity or other numerical problems.\n"
     ]
    }
   ],
   "source": [
    "#2.a\n",
    "df_2017_2018 = df[df['aar'].isin([2017, 2018])].copy()\n",
    "\n",
    "y = np.log(df_2017_2018['aarslon'])\n",
    "\n",
    "X = df_2017_2018[['alder', 'YSM', 'ankomstaar']]\n",
    "X = sm.add_constant(X)\n",
    "\n",
    "model = sm.OLS(y, X).fit()\n",
    "\n",
    "print(model.summary())\n"
   ]
  },
  {
   "cell_type": "markdown",
   "metadata": {},
   "source": [
    "### Problem 3"
   ]
  },
  {
   "cell_type": "code",
   "execution_count": 7,
   "metadata": {},
   "outputs": [
    {
     "name": "stdout",
     "output_type": "stream",
     "text": [
      "                            OLS Regression Results                            \n",
      "==============================================================================\n",
      "Dep. Variable:                taxrate   R-squared:                       0.039\n",
      "Model:                            OLS   Adj. R-squared:                  0.029\n",
      "Method:                 Least Squares   F-statistic:                     3.862\n",
      "Date:                Wed, 18 Sep 2024   Prob (F-statistic):             0.0523\n",
      "Time:                        11:46:54   Log-Likelihood:                -127.16\n",
      "No. Observations:                  98   AIC:                             258.3\n",
      "Df Residuals:                      96   BIC:                             263.5\n",
      "Df Model:                           1                                         \n",
      "Covariance Type:            nonrobust                                         \n",
      "==============================================================================\n",
      "                 coef    std err          t      P>|t|      [0.025      0.975]\n",
      "------------------------------------------------------------------------------\n",
      "logpop        -0.2273      0.116     -1.965      0.052      -0.457       0.002\n",
      "const         27.6268      1.234     22.386      0.000      25.177      30.077\n",
      "==============================================================================\n",
      "Omnibus:                        3.367   Durbin-Watson:                   1.570\n",
      "Prob(Omnibus):                  0.186   Jarque-Bera (JB):                2.699\n",
      "Skew:                          -0.328   Prob(JB):                        0.259\n",
      "Kurtosis:                       3.480   Cond. No.                         147.\n",
      "==============================================================================\n",
      "\n",
      "Notes:\n",
      "[1] Standard Errors assume that the covariance matrix of the errors is correctly specified.\n"
     ]
    }
   ],
   "source": [
    "#3.a\n",
    "model_tp = sm.OLS(df['taxrate'], df[['logpop','const']]).fit()\n",
    "df['res1'] = model_tp.resid\n",
    "print(model_tp.summary())"
   ]
  },
  {
   "cell_type": "code",
   "execution_count": 8,
   "metadata": {},
   "outputs": [
    {
     "name": "stdout",
     "output_type": "stream",
     "text": [
      "                            OLS Regression Results                            \n",
      "==============================================================================\n",
      "Dep. Variable:                 logrev   R-squared:                       0.001\n",
      "Model:                            OLS   Adj. R-squared:                 -0.010\n",
      "Method:                 Least Squares   F-statistic:                   0.06626\n",
      "Date:                Wed, 18 Sep 2024   Prob (F-statistic):              0.797\n",
      "Time:                        11:46:54   Log-Likelihood:                -112.50\n",
      "No. Observations:                  98   AIC:                             229.0\n",
      "Df Residuals:                      96   BIC:                             234.2\n",
      "Df Model:                           1                                         \n",
      "Covariance Type:            nonrobust                                         \n",
      "==============================================================================\n",
      "                 coef    std err          t      P>|t|      [0.025      0.975]\n",
      "------------------------------------------------------------------------------\n",
      "res1           0.0226      0.088      0.257      0.797      -0.152       0.197\n",
      "const          8.1031      0.078    104.100      0.000       7.949       8.258\n",
      "==============================================================================\n",
      "Omnibus:                       15.581   Durbin-Watson:                   1.763\n",
      "Prob(Omnibus):                  0.000   Jarque-Bera (JB):               46.400\n",
      "Skew:                          -0.383   Prob(JB):                     8.40e-11\n",
      "Kurtosis:                       6.283   Cond. No.                         1.13\n",
      "==============================================================================\n",
      "\n",
      "Notes:\n",
      "[1] Standard Errors assume that the covariance matrix of the errors is correctly specified.\n"
     ]
    }
   ],
   "source": [
    "#3.b\n",
    "df['logrev'] = y\n",
    "model_tr = sm.OLS(df['logrev'], df[['res1','const']]).fit()\n",
    "print(model_tr.summary())"
   ]
  }
 ],
 "metadata": {
  "kernelspec": {
   "display_name": "Python 3 (ipykernel)",
   "language": "python",
   "name": "python3"
  },
  "language_info": {
   "codemirror_mode": {
    "name": "ipython",
    "version": 3
   },
   "file_extension": ".py",
   "mimetype": "text/x-python",
   "name": "python",
   "nbconvert_exporter": "python",
   "pygments_lexer": "ipython3",
   "version": "3.11.7"
  }
 },
 "nbformat": 4,
 "nbformat_minor": 2
}

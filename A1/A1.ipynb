{
 "cells": [
  {
   "cell_type": "markdown",
   "metadata": {},
   "source": [
    "# Mandatory Assignment 1\n"
   ]
  },
  {
   "cell_type": "markdown",
   "metadata": {},
   "source": [
    "## Tax Revenues and Municipal Tax Rates in Denmark\n",
    "By: Mathias Nikolaisen(dnt357), Oliver Mattthews(jvc975) & Clara Maj Folkmann(djz279)"
   ]
  },
  {
   "cell_type": "markdown",
   "metadata": {},
   "source": [
    "### Problem 1: Descriptive analysis\n"
   ]
  },
  {
   "cell_type": "code",
   "execution_count": 2,
   "metadata": {},
   "outputs": [
    {
     "data": {
      "text/html": [
       "<div>\n",
       "<style scoped>\n",
       "    .dataframe tbody tr th:only-of-type {\n",
       "        vertical-align: middle;\n",
       "    }\n",
       "\n",
       "    .dataframe tbody tr th {\n",
       "        vertical-align: top;\n",
       "    }\n",
       "\n",
       "    .dataframe thead th {\n",
       "        text-align: right;\n",
       "    }\n",
       "</style>\n",
       "<table border=\"1\" class=\"dataframe\">\n",
       "  <thead>\n",
       "    <tr style=\"text-align: right;\">\n",
       "      <th></th>\n",
       "      <th>nr</th>\n",
       "      <th>kommune</th>\n",
       "      <th>taxrev</th>\n",
       "      <th>taxrate</th>\n",
       "      <th>pop</th>\n",
       "    </tr>\n",
       "  </thead>\n",
       "  <tbody>\n",
       "    <tr>\n",
       "      <th>0</th>\n",
       "      <td>101</td>\n",
       "      <td>Københavns Kommune</td>\n",
       "      <td>44170.335938</td>\n",
       "      <td>23.799999</td>\n",
       "      <td>528208</td>\n",
       "    </tr>\n",
       "    <tr>\n",
       "      <th>1</th>\n",
       "      <td>147</td>\n",
       "      <td>Frederiksberg Kommune</td>\n",
       "      <td>6682.439941</td>\n",
       "      <td>23.100000</td>\n",
       "      <td>96718</td>\n",
       "    </tr>\n",
       "    <tr>\n",
       "      <th>2</th>\n",
       "      <td>151</td>\n",
       "      <td>Ballerup Kommune</td>\n",
       "      <td>4598.704102</td>\n",
       "      <td>25.500000</td>\n",
       "      <td>47652</td>\n",
       "    </tr>\n",
       "    <tr>\n",
       "      <th>3</th>\n",
       "      <td>153</td>\n",
       "      <td>Brøndby Kommune</td>\n",
       "      <td>3121.204834</td>\n",
       "      <td>24.500000</td>\n",
       "      <td>33795</td>\n",
       "    </tr>\n",
       "    <tr>\n",
       "      <th>4</th>\n",
       "      <td>155</td>\n",
       "      <td>Dragør Kommune</td>\n",
       "      <td>858.017944</td>\n",
       "      <td>24.799999</td>\n",
       "      <td>13564</td>\n",
       "    </tr>\n",
       "    <tr>\n",
       "      <th>...</th>\n",
       "      <td>...</td>\n",
       "      <td>...</td>\n",
       "      <td>...</td>\n",
       "      <td>...</td>\n",
       "      <td>...</td>\n",
       "    </tr>\n",
       "    <tr>\n",
       "      <th>93</th>\n",
       "      <td>840</td>\n",
       "      <td>Rebild Kommune</td>\n",
       "      <td>1957.348511</td>\n",
       "      <td>25.100000</td>\n",
       "      <td>28852</td>\n",
       "    </tr>\n",
       "    <tr>\n",
       "      <th>94</th>\n",
       "      <td>846</td>\n",
       "      <td>Mariagerfjord Kommune</td>\n",
       "      <td>3186.054932</td>\n",
       "      <td>25.700001</td>\n",
       "      <td>42604</td>\n",
       "    </tr>\n",
       "    <tr>\n",
       "      <th>95</th>\n",
       "      <td>849</td>\n",
       "      <td>Jammerbugt Kommune</td>\n",
       "      <td>3241.256592</td>\n",
       "      <td>25.299999</td>\n",
       "      <td>38927</td>\n",
       "    </tr>\n",
       "    <tr>\n",
       "      <th>96</th>\n",
       "      <td>851</td>\n",
       "      <td>Aalborg Kommune</td>\n",
       "      <td>16330.091797</td>\n",
       "      <td>25.400000</td>\n",
       "      <td>197426</td>\n",
       "    </tr>\n",
       "    <tr>\n",
       "      <th>97</th>\n",
       "      <td>860</td>\n",
       "      <td>Hjørring Kommune</td>\n",
       "      <td>5061.796875</td>\n",
       "      <td>25.400000</td>\n",
       "      <td>66803</td>\n",
       "    </tr>\n",
       "  </tbody>\n",
       "</table>\n",
       "<p>98 rows × 5 columns</p>\n",
       "</div>"
      ],
      "text/plain": [
       "     nr                kommune        taxrev    taxrate     pop\n",
       "0   101     Københavns Kommune  44170.335938  23.799999  528208\n",
       "1   147  Frederiksberg Kommune   6682.439941  23.100000   96718\n",
       "2   151       Ballerup Kommune   4598.704102  25.500000   47652\n",
       "3   153        Brøndby Kommune   3121.204834  24.500000   33795\n",
       "4   155         Dragør Kommune    858.017944  24.799999   13564\n",
       "..  ...                    ...           ...        ...     ...\n",
       "93  840         Rebild Kommune   1957.348511  25.100000   28852\n",
       "94  846  Mariagerfjord Kommune   3186.054932  25.700001   42604\n",
       "95  849     Jammerbugt Kommune   3241.256592  25.299999   38927\n",
       "96  851        Aalborg Kommune  16330.091797  25.400000  197426\n",
       "97  860       Hjørring Kommune   5061.796875  25.400000   66803\n",
       "\n",
       "[98 rows x 5 columns]"
      ]
     },
     "execution_count": 2,
     "metadata": {},
     "output_type": "execute_result"
    }
   ],
   "source": [
    "import pandas as pd\n",
    "df = pd.read_stata('A1_kommune.dta')\n",
    "print(df.shape)\n",
    "print(df.columns)"
   ]
  },
  {
   "cell_type": "markdown",
   "metadata": {},
   "source": [
    "### Problem 2: Empirical analysis of tax revenues and municipal tax rates"
   ]
  },
  {
   "cell_type": "code",
   "execution_count": 1,
   "metadata": {},
   "outputs": [],
   "source": [
    "#To do"
   ]
  },
  {
   "cell_type": "markdown",
   "metadata": {},
   "source": [
    "### Problem 3: Multiple linear regression as two simple linear regressions"
   ]
  },
  {
   "cell_type": "code",
   "execution_count": 17,
   "metadata": {},
   "outputs": [],
   "source": [
    "#To do"
   ]
  },
  {
   "cell_type": "markdown",
   "metadata": {},
   "source": [
    "### Problem 4: Conclusion"
   ]
  },
  {
   "cell_type": "code",
   "execution_count": 20,
   "metadata": {},
   "outputs": [],
   "source": [
    "#To do"
   ]
  }
 ],
 "metadata": {
  "kernelspec": {
   "display_name": "Python 3 (ipykernel)",
   "language": "python",
   "name": "python3"
  },
  "language_info": {
   "codemirror_mode": {
    "name": "ipython",
    "version": 3
   },
   "file_extension": ".py",
   "mimetype": "text/x-python",
   "name": "python",
   "nbconvert_exporter": "python",
   "pygments_lexer": "ipython3",
   "version": "3.11.7"
  }
 },
 "nbformat": 4,
 "nbformat_minor": 2
}
